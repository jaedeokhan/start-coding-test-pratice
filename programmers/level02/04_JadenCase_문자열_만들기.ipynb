{
  "nbformat": 4,
  "nbformat_minor": 0,
  "metadata": {
    "colab": {
      "name": "04_JadenCase 문자열 만들기.ipynb",
      "provenance": [],
      "collapsed_sections": [],
      "authorship_tag": "ABX9TyM3Rz7J5QKBQIgvk76xYS13",
      "include_colab_link": true
    },
    "kernelspec": {
      "name": "python3",
      "display_name": "Python 3"
    },
    "language_info": {
      "name": "python"
    }
  },
  "cells": [
    {
      "cell_type": "markdown",
      "metadata": {
        "id": "view-in-github",
        "colab_type": "text"
      },
      "source": [
        "<a href=\"https://colab.research.google.com/github/jaedeokhan/start-coding-test-pratice/blob/main/programmers/level02/04_JadenCase_%EB%AC%B8%EC%9E%90%EC%97%B4_%EB%A7%8C%EB%93%A4%EA%B8%B0.ipynb\" target=\"_parent\"><img src=\"https://colab.research.google.com/assets/colab-badge.svg\" alt=\"Open In Colab\"/></a>"
      ]
    },
    {
      "cell_type": "markdown",
      "metadata": {
        "id": "FpUTfJw43iKz"
      },
      "source": [
        "### 문제 : [오픈채팅방](https://programmers.co.kr/learn/courses/30/lessons/42888)\n",
        "채팅방에 들어오고 나가거나, 닉네임을 변경한 기록이 담긴 문자열 배열 record가 매개변수로 주어질 때, 모든 기록이 처리된 후, 최종적으로 방을 개설한 사람이 보게 되는 메시지를 문자열 배열 형태로 return 하도록 solution 함수를 완성하라."
      ]
    },
    {
      "cell_type": "markdown",
      "metadata": {
        "id": "hft7G--A33Hu"
      },
      "source": [
        "### 1. python 내장 함수인 capitalize() 사용하기\n",
        "* [What is capitalize() in Python?](https://www.programiz.com/python-programming/methods/string/capitalize)\n",
        "* In Python, the capitalize() method converts first character of a string to uppercase letter and lowercases all other characters, if any.\n",
        "* 첫 번째 문자는 대문자화, 나머지는 소문자화"
      ]
    },
    {
      "cell_type": "markdown",
      "metadata": {
        "id": "uNR_Y2Ve4iA6"
      },
      "source": [
        "### 1. for문을 돌려서 capitalize()를 돌려서 해결하는 방법"
      ]
    },
    {
      "cell_type": "code",
      "metadata": {
        "colab": {
          "base_uri": "https://localhost:8080/"
        },
        "id": "4_NKEuEf4i4Y",
        "outputId": "d6d28940-f54c-49ba-e625-240852f05639"
      },
      "source": [
        " ### 입력값\n",
        " s = [\"3people unFollowed me\", \"for the last week\"]\n",
        "\n",
        "### 문제\n",
        "def solution(s):\n",
        "\n",
        "    answer = ''\n",
        "    word = s.split(\" \")\n",
        "        \n",
        "    for i, w in enumerate(word):\n",
        "\n",
        "        w = w.capitalize()\n",
        "        if i != 0:\n",
        "            answer = answer + \" \" + w\n",
        "        else: # 첫 번째 word이면\n",
        "            answer += w\n",
        "\n",
        "    return answer\n",
        " \n",
        "### 출력\n",
        "for i in range(len(s)):\n",
        "   print(\"================================\")\n",
        "   print(f'Start : {i+1}')\n",
        "   answer = solution(s[i])\n",
        "   print(f'answer : {answer}')\n",
        "   print(\"================================\")"
      ],
      "execution_count": 7,
      "outputs": [
        {
          "output_type": "stream",
          "text": [
            "================================\n",
            "Start : 1\n",
            "answer : 3people Unfollowed Me\n",
            "================================\n",
            "================================\n",
            "Start : 2\n",
            "answer : For The Last Week\n",
            "================================\n"
          ],
          "name": "stdout"
        }
      ]
    },
    {
      "cell_type": "markdown",
      "metadata": {
        "id": "YuZOFuvR4jUT"
      },
      "source": [
        "### 2. join()과 capitalize()와 리스트 내포식을 사용하는 방법\n",
        "* \" \".join(list) : 인자로 들어오는 리스트를 \" \" 공백 구분자로 더해준다."
      ]
    },
    {
      "cell_type": "code",
      "metadata": {
        "colab": {
          "base_uri": "https://localhost:8080/"
        },
        "id": "SQa3h6YX3i5H",
        "outputId": "b7101d0a-db7d-452d-b06f-40dc8cec7eb9"
      },
      "source": [
        " ### 입력값\n",
        " s = [\"3people unFollowed me\", \"for the last week\"]\n",
        "\n",
        "### 문제\n",
        "def solution(s):\n",
        "    \n",
        "    return \" \".join([word.capitalize()  for word in s.split()])\n",
        " \n",
        "### 출력\n",
        "for i in range(len(s)):\n",
        "   print(\"================================\")\n",
        "   print(f'Start : {i+1}')\n",
        "   answer = solution(s[i])\n",
        "   print(f'answer : {answer}')\n",
        "   print(\"================================\")"
      ],
      "execution_count": 4,
      "outputs": [
        {
          "output_type": "stream",
          "text": [
            "================================\n",
            "Start : 1\n",
            "answer : 3people Unfollowed Me\n",
            "================================\n",
            "================================\n",
            "Start : 2\n",
            "answer : For The Last Week\n",
            "================================\n"
          ],
          "name": "stdout"
        }
      ]
    }
  ]
}