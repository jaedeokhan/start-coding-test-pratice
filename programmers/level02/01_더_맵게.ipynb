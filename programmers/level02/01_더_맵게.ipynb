{
  "nbformat": 4,
  "nbformat_minor": 0,
  "metadata": {
    "colab": {
      "name": "01_더 맵게.ipynb",
      "provenance": [],
      "authorship_tag": "ABX9TyOTmd2IsSRgIJjNImunfI9R",
      "include_colab_link": true
    },
    "kernelspec": {
      "name": "python3",
      "display_name": "Python 3"
    },
    "language_info": {
      "name": "python"
    }
  },
  "cells": [
    {
      "cell_type": "markdown",
      "metadata": {
        "id": "view-in-github",
        "colab_type": "text"
      },
      "source": [
        "<a href=\"https://colab.research.google.com/github/jaedeokhan/start-coding-test-pratice/blob/main/programmers/level02/01_%EB%8D%94_%EB%A7%B5%EA%B2%8C.ipynb\" target=\"_parent\"><img src=\"https://colab.research.google.com/assets/colab-badge.svg\" alt=\"Open In Colab\"/></a>"
      ]
    },
    {
      "cell_type": "markdown",
      "metadata": {
        "id": "l0wc2nQ8XsnO"
      },
      "source": [
        "### 문제 : 더 맵게\n",
        "Leo가 가진 음식의 스코빌 지수를 담은 배열 scoville과 원하는 스코빌 지수 K가 주어질 때, 모든 음식의 스코빌 지수를 K 이상으로 만들기 위해 섞어야 하는 최소 횟수를 return 하도록 solution 함수를 작성해주세요."
      ]
    },
    {
      "cell_type": "markdown",
      "metadata": {
        "id": "KfSuiNDBcjhp"
      },
      "source": [
        "### 1. heapq 즉 최소힙을 사용한 방식"
      ]
    },
    {
      "cell_type": "code",
      "metadata": {
        "colab": {
          "base_uri": "https://localhost:8080/"
        },
        "id": "WRKvOLXVXxpq",
        "outputId": "bbfcb3f5-fd95-4db3-ac4a-eb259aaf4862"
      },
      "source": [
        " ### 입력값\n",
        "K = [7]\n",
        "scoville = [\n",
        "            [1, 2, 3, 9, 10, 12]\n",
        "           ]\n",
        " \n",
        "### 문제\n",
        "def solution(scoville, K):\n",
        "    \n",
        "    import heapq\n",
        "\n",
        "    heapq.heapify(scoville) # heapq의 heapify를 사용해서 최소힙으로 변경\n",
        "    answer = 0\n",
        "\n",
        "    while scoville[0] < K: # scoville의 0 즉 최솟값이 K보다 작을때 까지\n",
        "        heapq.heappush(scoville, heapq.heappop(scoville) + (heapq.heappop(scoville) * 2))        \n",
        "        answer += 1\n",
        "\n",
        "        if len(scoville) == 1 and scoville[0] < K:\n",
        "            return -1\n",
        "\n",
        "    return answer\n",
        " \n",
        "    \n",
        "### 출력\n",
        "for i in range(len(scoville)):\n",
        "   print(\"================================\")\n",
        "   print(f'Start : {i+1}')\n",
        "   answer = solution(scoville[i], K[i])\n",
        "   print(f'answer : {answer}')\n",
        "   print(\"================================\")"
      ],
      "execution_count": 14,
      "outputs": [
        {
          "output_type": "stream",
          "text": [
            "================================\n",
            "Start : 1\n",
            "answer : 2\n",
            "================================\n"
          ],
          "name": "stdout"
        }
      ]
    }
  ]
}