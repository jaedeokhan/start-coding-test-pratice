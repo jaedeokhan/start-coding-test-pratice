{
  "nbformat": 4,
  "nbformat_minor": 0,
  "metadata": {
    "colab": {
      "name": "55_[1차] 비밀지도.ipynb",
      "provenance": [],
      "collapsed_sections": [],
      "authorship_tag": "ABX9TyOEynFRsg69p17dRI75OFrs",
      "include_colab_link": true
    },
    "kernelspec": {
      "name": "python3",
      "display_name": "Python 3"
    },
    "language_info": {
      "name": "python"
    }
  },
  "cells": [
    {
      "cell_type": "markdown",
      "metadata": {
        "id": "view-in-github",
        "colab_type": "text"
      },
      "source": [
        "<a href=\"https://colab.research.google.com/github/jaedeokhan/start-coding-test-pratice/blob/main/programmers/level01/55_%5B1%EC%B0%A8%5D_%EB%B9%84%EB%B0%80%EC%A7%80%EB%8F%84.ipynb\" target=\"_parent\"><img src=\"https://colab.research.google.com/assets/colab-badge.svg\" alt=\"Open In Colab\"/></a>"
      ]
    },
    {
      "cell_type": "markdown",
      "metadata": {
        "id": "nDCMTeG-JbA5"
      },
      "source": [
        "### 문제 : [1차] **비밀지도**\n",
        "#### 2018 카카오 블라인드 "
      ]
    },
    {
      "cell_type": "code",
      "metadata": {
        "colab": {
          "base_uri": "https://localhost:8080/"
        },
        "id": "yn8_tkjnJLZS",
        "outputId": "6514531f-2fdb-46c1-ebef-77f6b331314e"
      },
      "source": [
        "### 입력값\n",
        "n = [5, 6]\n",
        "arr1 = [[9, 20, 28, 18, 11], [46, 33, 33 ,22, 31, 50]]\n",
        "arr2 = [[30, 1, 21, 17, 28], [27 ,56, 19, 14, 14, 10]]\n",
        "###\n",
        " \n",
        "### 문제\n",
        "def solution(n, arr1, arr2):\n",
        "    answer = []\n",
        "    binary = []\n",
        "    or_value = ''\n",
        "\n",
        "    for a1, a2 in zip(arr1, arr2):\n",
        "        or_value = bin(a1 | a2)[2:]\n",
        "\n",
        "        if len(or_value) < n:\n",
        "            or_value = '0' * (n-len(or_value)) + or_value\n",
        "\n",
        "        binary.append(or_value)\n",
        "    \n",
        "    for bina in binary:\n",
        "        map_str = ''\n",
        "        for b in bina:\n",
        "            if b == '1':\n",
        "                map_str += '#'\n",
        "            else:\n",
        "                map_str += ' '\n",
        "\n",
        "        answer.append(map_str)\n",
        "\n",
        "    return answer\n",
        "        \n",
        "\n",
        "        \n",
        "### 출력\n",
        "for i in range(len(n)):\n",
        "   print(\"================================\")\n",
        "   print(f'Start : {i+1}')\n",
        "   answer = solution(n[i], arr1[i], arr2[i])\n",
        "   print(f'answer : {answer}')\n",
        "   for a in answer:\n",
        "       print(a)\n",
        "   print(\"================================\\n\")"
      ],
      "execution_count": 13,
      "outputs": [
        {
          "output_type": "stream",
          "text": [
            "================================\n",
            "Start : 1\n",
            "answer : ['#####', '# # #', '### #', '#  ##', '#####']\n",
            "#####\n",
            "# # #\n",
            "### #\n",
            "#  ##\n",
            "#####\n",
            "================================\n",
            "\n",
            "================================\n",
            "Start : 2\n",
            "answer : ['######', '###  #', '##  ##', ' #### ', ' #####', '### # ']\n",
            "######\n",
            "###  #\n",
            "##  ##\n",
            " #### \n",
            " #####\n",
            "### # \n",
            "================================\n",
            "\n"
          ],
          "name": "stdout"
        }
      ]
    },
    {
      "cell_type": "code",
      "metadata": {
        "id": "CqabcZl2Lbwt"
      },
      "source": [
        ""
      ],
      "execution_count": null,
      "outputs": []
    }
  ]
}