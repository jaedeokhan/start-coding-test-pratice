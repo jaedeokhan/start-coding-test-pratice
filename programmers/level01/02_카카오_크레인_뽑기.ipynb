{
  "nbformat": 4,
  "nbformat_minor": 0,
  "metadata": {
    "colab": {
      "name": "02_카카오 크레인 뽑기.ipynb",
      "provenance": [],
      "collapsed_sections": [],
      "authorship_tag": "ABX9TyMAjyJ56XUE6QFm4HH8YaJt",
      "include_colab_link": true
    },
    "kernelspec": {
      "name": "python3",
      "display_name": "Python 3"
    },
    "language_info": {
      "name": "python"
    }
  },
  "cells": [
    {
      "cell_type": "markdown",
      "metadata": {
        "id": "view-in-github",
        "colab_type": "text"
      },
      "source": [
        "<a href=\"https://colab.research.google.com/github/jaedeokhan/start-coding-test-pratice/blob/main/programmers/level01/02_%EC%B9%B4%EC%B9%B4%EC%98%A4_%ED%81%AC%EB%A0%88%EC%9D%B8_%EB%BD%91%EA%B8%B0.ipynb\" target=\"_parent\"><img src=\"https://colab.research.google.com/assets/colab-badge.svg\" alt=\"Open In Colab\"/></a>"
      ]
    },
    {
      "cell_type": "markdown",
      "metadata": {
        "id": "xSR3S6K6bssa"
      },
      "source": [
        "## 프로그래머스 Level01 카카오 크레인 뽑기\n",
        "정수 배열 numbers가 주어집니다.<br> \n",
        "\n",
        "<b>numbers에서 서로 다른 인덱스에 있는 두 개의 수를 뽑아 더해서 만들 수 있는 모든 수를 배열에 오름차순으로 담아 return 하도록 solution 함수를 완성해주세요.</b>"
      ]
    },
    {
      "cell_type": "markdown",
      "metadata": {
        "id": "tc_hhkKQrOlO"
      },
      "source": [
        "### 1."
      ]
    },
    {
      "cell_type": "code",
      "metadata": {
        "colab": {
          "base_uri": "https://localhost:8080/"
        },
        "id": "LvQIlI3im0OP",
        "outputId": "840854fc-0507-450a-869b-85424f52b663"
      },
      "source": [
        "# 게임 화면의 격자의 상태가 담긴 2차원 배열 board와 인형을 집기 위해\n",
        "# 크레인을 작동시킨 위치가 담긴 배열 moves가 매개변수로 주어질 때, \n",
        "# 크레인을 모두 작동시킨 후 터트려져 사라진 인형의 개수를 return 하도록 solution 함수를 완성해주세요.\n",
        " \n",
        "### 입력값\n",
        "board = [[0,0,0,0,0],[0,0,1,0,3],[0,2,5,0,1],[4,2,4,4,2],[3,5,1,3,1]] \n",
        "moves = [1,5,3,5,1,2,1,4]\n",
        "###\n",
        " \n",
        "\n",
        "def solution(board, moves):\n",
        "    bucket = []\n",
        "    answer = []\n",
        "    \n",
        "    for move in moves:\n",
        "        # move는 0번째가 1, 1번째가 2로 주어지기에 -1을 해준다\n",
        "        move -= 1\n",
        "        for j in range(len(board)):\n",
        "            # board에 인형이 있는 경우\n",
        "            if board[j][move] != 0:\n",
        "                bucket.append(board[j][move])\n",
        "                board[j][move] = 0\n",
        "                \n",
        "                # bucket에 동일한 인형이 옆에 있는 경우\n",
        "                if bucket[-1:] == bucket[-2:-1]:\n",
        "                    answer += bucket[-1:]\n",
        "                    bucket = bucket[:-2]\n",
        "                break\n",
        "    \n",
        "    return len(answer) * 2\n",
        "\n",
        "answer = solution(board, moves) \n",
        "print(f'result : {answer}')"
      ],
      "execution_count": 3,
      "outputs": [
        {
          "output_type": "stream",
          "text": [
            "result : 4\n"
          ],
          "name": "stdout"
        }
      ]
    },
    {
      "cell_type": "markdown",
      "metadata": {
        "id": "7dCw953_rOB2"
      },
      "source": [
        "### 2. pop() 사용해서 해결"
      ]
    },
    {
      "cell_type": "code",
      "metadata": {
        "colab": {
          "base_uri": "https://localhost:8080/"
        },
        "id": "98NWH1FWrLLz",
        "outputId": "a5a5f042-2351-42f3-872e-f014b447eb36"
      },
      "source": [
        "### 입력값\n",
        "board = [[0,0,0,0,0],[0,0,1,0,3],[0,2,5,0,1],[4,2,4,4,2],[3,5,1,3,1]] \n",
        "moves = [1,5,3,5,1,2,1,4]\n",
        "###\n",
        " \n",
        "\n",
        "def solution(board, moves):\n",
        "    bucket = []\n",
        "    answer = 0\n",
        "    \n",
        "    for move in moves:\n",
        "        # move는 0번째가 1, 1번째가 2로 주어지기에 -1을 해준다\n",
        "        move -= 1\n",
        "        for j in range(len(board)):\n",
        "            # board에 인형이 있는 경우\n",
        "            if board[j][move] != 0:\n",
        "                bucket.append(board[j][move])\n",
        "                board[j][move] = 0\n",
        "                \n",
        "                # bucket에 크기가 1보다 큰 경우\n",
        "                if len(bucket) > 1:\n",
        "                    # 동일한 인형이 옆에 있는 경우\n",
        "                    if bucket[-1] == bucket[-2]:\n",
        "                        bucket.pop(-1)\n",
        "                        bucket.pop(-1)\n",
        "                        answer += 2\n",
        "                break\n",
        "    \n",
        "    return answer\n",
        "\n",
        "answer = solution(board, moves) \n",
        "print(f'result : {answer}')"
      ],
      "execution_count": 4,
      "outputs": [
        {
          "output_type": "stream",
          "text": [
            "result : 4\n"
          ],
          "name": "stdout"
        }
      ]
    }
  ]
}