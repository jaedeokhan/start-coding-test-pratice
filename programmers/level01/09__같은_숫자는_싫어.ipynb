{
  "nbformat": 4,
  "nbformat_minor": 0,
  "metadata": {
    "colab": {
      "name": "09_ 같은 숫자는 싫어.ipynb",
      "provenance": [],
      "authorship_tag": "ABX9TyO0fh6BhOh+bHsE8VQBvaCg",
      "include_colab_link": true
    },
    "kernelspec": {
      "name": "python3",
      "display_name": "Python 3"
    },
    "language_info": {
      "name": "python"
    }
  },
  "cells": [
    {
      "cell_type": "markdown",
      "metadata": {
        "id": "view-in-github",
        "colab_type": "text"
      },
      "source": [
        "<a href=\"https://colab.research.google.com/github/jaedeokhan/start-coding-test-pratice/blob/main/programmers/level01/09__%EA%B0%99%EC%9D%80_%EC%88%AB%EC%9E%90%EB%8A%94_%EC%8B%AB%EC%96%B4.ipynb\" target=\"_parent\"><img src=\"https://colab.research.google.com/assets/colab-badge.svg\" alt=\"Open In Colab\"/></a>"
      ]
    },
    {
      "cell_type": "markdown",
      "metadata": {
        "id": "uIjKMBX8rDU8"
      },
      "source": [
        "### 문제 : 같은 숫자는 싫어\n",
        "배열 arr가 주어집니다. 배열 arr의 각 원소는 숫자 0부터 9까지로 이루어져 있습니다. 이때, 배열 arr에서 연속적으로 나타나는 숫자는 하나만 남기고 전부 제거하려고 합니다. 단, 제거된 후 남은 수들을 반환할 때는 배열 arr의 원소들의 순서를 유지해야 합니다"
      ]
    },
    {
      "cell_type": "code",
      "metadata": {
        "id": "aErEWcr2q-tm",
        "colab": {
          "base_uri": "https://localhost:8080/"
        },
        "outputId": "c636e442-6090-418f-d16e-879bea6840f4"
      },
      "source": [
        "### 입력값\n",
        "arr = [ [1,1,3,3,0,1,1], [4,4,4,3,3] ]\n",
        "###\n",
        "\n",
        "### 문제\n",
        "def solution(arr):\n",
        "\n",
        "    answer = []\n",
        "    \n",
        "    # 연속적인 숫자는 하나만 남기고 모두 제거하기   \n",
        "    # 제거된 후에 남은 수들을 반환활 때는 기존의 순서를 유지\n",
        "    for a in arr:\n",
        "        if len(answer) == 0:\n",
        "            answer.append(a)\n",
        "            continue\n",
        "\n",
        "        if answer[-1] != a:\n",
        "            answer.append(a)\n",
        "\n",
        "    return answer\n",
        "\n",
        "### 출력\n",
        "for i in range(len(arr)):\n",
        "   print(\"================================\")\n",
        "   print(f'Start : {i+1}')\n",
        "   answer = solution(arr[i])\n",
        "   print(answer)\n",
        "   print(\"================================\\n\")"
      ],
      "execution_count": 22,
      "outputs": [
        {
          "output_type": "stream",
          "text": [
            "================================\n",
            "Start : 1\n",
            "[1, 3, 0, 1]\n",
            "================================\n",
            "\n",
            "================================\n",
            "Start : 2\n",
            "[4, 3]\n",
            "================================\n",
            "\n"
          ],
          "name": "stdout"
        }
      ]
    }
  ]
}