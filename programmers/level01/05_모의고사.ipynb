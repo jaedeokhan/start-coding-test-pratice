{
  "nbformat": 4,
  "nbformat_minor": 0,
  "metadata": {
    "colab": {
      "name": "05_모의고사.ipynb",
      "provenance": [],
      "collapsed_sections": [],
      "authorship_tag": "ABX9TyNODN7eZsL9hZvL9FmAqmnL",
      "include_colab_link": true
    },
    "kernelspec": {
      "name": "python3",
      "display_name": "Python 3"
    },
    "language_info": {
      "name": "python"
    }
  },
  "cells": [
    {
      "cell_type": "markdown",
      "metadata": {
        "id": "view-in-github",
        "colab_type": "text"
      },
      "source": [
        "<a href=\"https://colab.research.google.com/github/jaedeokhan/start-coding-test-pratice/blob/main/programmers/level01/05_%EB%AA%A8%EC%9D%98%EA%B3%A0%EC%82%AC.ipynb\" target=\"_parent\"><img src=\"https://colab.research.google.com/assets/colab-badge.svg\" alt=\"Open In Colab\"/></a>"
      ]
    },
    {
      "cell_type": "code",
      "metadata": {
        "colab": {
          "base_uri": "https://localhost:8080/"
        },
        "id": "6o0ygwWWB5Zo",
        "outputId": "3fbc2f6f-a10e-4874-e728-6cf4c5ba5cff"
      },
      "source": [
        "### 입력값\n",
        "answers = [[1,2,3,4,5], [1,3,2,4,2]]\n",
        "###\n",
        " \n",
        " \n",
        "### 문제\n",
        "def solution(answers):\n",
        "    answer = []\n",
        "\n",
        "    # Start\n",
        "    print(answers)\n",
        "    \n",
        "    one =  [1,2,3,4,5]\n",
        "    two = [2,1,2,3,2,4,2,5]\n",
        "    three = [3,3,1,1,2,2,4,4,5,5]\n",
        "    count = [0,0,0]\n",
        "    \n",
        "    for i in range(len(answers)):\n",
        "        if answers[i] == one[i%5]:\n",
        "            count[0] += 1\n",
        "        if answers[i] == two[i%8]:\n",
        "            count[1] += 1\n",
        "        if answers[i] == three[i%10]:\n",
        "            count[2] += 1\n",
        " \n",
        "    for i in range(len(count)):\n",
        "        if count[i] == max(count):\n",
        "            answer.append(i+1)\n",
        "        \n",
        "    return answer\n",
        " \n",
        "### 출력\n",
        "for i in range(len(answers)):\n",
        "   answer = solution(answers[i])\n",
        "   print(answer)"
      ],
      "execution_count": 7,
      "outputs": [
        {
          "output_type": "stream",
          "text": [
            "[1, 2, 3, 4, 5]\n",
            "[1]\n",
            "[1, 3, 2, 4, 2]\n",
            "[1, 2, 3]\n"
          ],
          "name": "stdout"
        }
      ]
    },
    {
      "cell_type": "code",
      "metadata": {
        "colab": {
          "base_uri": "https://localhost:8080/"
        },
        "id": "7FOy8wmKCrPG",
        "outputId": "2b2c1540-c6e3-42b8-cde4-c6d866b6c831"
      },
      "source": [
        "### 입력값\n",
        "answers = [[1,2,3,4,5], [1,3,2,4,2]]\n",
        "###\n",
        " \n",
        " \n",
        "### 문제\n",
        "def solution(answers):\n",
        "    answer = []\n",
        "\n",
        "    # Start\n",
        "    print('====start====')\n",
        "    print(answers)\n",
        "    \n",
        "    one =  [1,2,3,4,5]\n",
        "    two = [2,1,2,3,2,4,2,5]\n",
        "    three = [3,3,1,1,2,2,4,4,5,5]\n",
        "    one_count = 0\n",
        "    two_count = 0\n",
        "    three_count = 0\n",
        "    \n",
        "    for i in range(len(answers)):\n",
        "        if answers[i] == one[i%5]:\n",
        "            one_count += 1\n",
        "        if answers[i] == two[i%8]:\n",
        "            two_count += 1\n",
        "        if answers[i] == three[i%10]:\n",
        "            three_count += 1\n",
        "    \n",
        "    # MAX값을 딕셔너리 사용해서 해결\n",
        "    count_dict = {1 : one_count, 2 : two_count, 3 : three_count}\n",
        "    top_score = max(count_dict.values())\n",
        "    answer = [student for student, score in count_dict.items() if score == top_score]\n",
        "    \n",
        "    print('====end====')\n",
        "\n",
        "    return answer\n",
        " \n",
        "### 출력\n",
        "for i in range(len(answers)):\n",
        "   answer = solution(answers[i])\n",
        "   print(f'result : {answer}\\n')"
      ],
      "execution_count": 16,
      "outputs": [
        {
          "output_type": "stream",
          "text": [
            "====start====\n",
            "[1, 2, 3, 4, 5]\n",
            "====end====\n",
            "result : [1]\n",
            "\n",
            "====start====\n",
            "[1, 3, 2, 4, 2]\n",
            "====end====\n",
            "result : [1, 2, 3]\n",
            "\n"
          ],
          "name": "stdout"
        }
      ]
    }
  ]
}