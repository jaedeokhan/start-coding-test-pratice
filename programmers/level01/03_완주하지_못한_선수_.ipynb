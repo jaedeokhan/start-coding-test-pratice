{
  "nbformat": 4,
  "nbformat_minor": 0,
  "metadata": {
    "colab": {
      "name": "03_완주하지 못한 선수 .ipynb",
      "provenance": [],
      "authorship_tag": "ABX9TyMjF7UM0DRZNeLq9mrLN7+B",
      "include_colab_link": true
    },
    "kernelspec": {
      "name": "python3",
      "display_name": "Python 3"
    },
    "language_info": {
      "name": "python"
    }
  },
  "cells": [
    {
      "cell_type": "markdown",
      "metadata": {
        "id": "view-in-github",
        "colab_type": "text"
      },
      "source": [
        "<a href=\"https://colab.research.google.com/github/jaedeokhan/start-coding-test-pratice/blob/main/programmers/level01/03_%EC%99%84%EC%A3%BC%ED%95%98%EC%A7%80_%EB%AA%BB%ED%95%9C_%EC%84%A0%EC%88%98_.ipynb\" target=\"_parent\"><img src=\"https://colab.research.google.com/assets/colab-badge.svg\" alt=\"Open In Colab\"/></a>"
      ]
    },
    {
      "cell_type": "code",
      "metadata": {
        "colab": {
          "base_uri": "https://localhost:8080/"
        },
        "id": "kBZYW_zXSqTo",
        "outputId": "8af0229e-f9bf-49a8-fbff-e5e7129f5552"
      },
      "source": [
        "### 입력값\n",
        "participant = [ [\"leo\", \"kiki\", \"eden\"], \n",
        "                [\"marina\", \"josipa\", \"nikola\", \"vinko\", \"filipa\"],\n",
        "                [\"mislav\", \"stanko\", \"mislav\", \"ana\"] ]\n",
        "completion =  [ [\"eden\", \"kiki\"],  \n",
        "                [\"josipa\", \"filipa\", \"marina\", \"nikola\"],\n",
        "                [\"stanko\", \"ana\", \"mislav\"] ]\n",
        "###\n",
        " \n",
        " \n",
        "### 문제\n",
        "def solution(participant, completion):\n",
        "   \n",
        "   participant.sort()\n",
        "   completion.sort()\n",
        "   \n",
        "   print(participant)\n",
        "   print(completion)\n",
        " \n",
        "   for i in range(len(completion)):\n",
        "      if participant[i] != completion[i]:\n",
        "         return participant[i]\n",
        "      \n",
        "   return participant[-1]\n",
        " \n",
        "### 출력\n",
        "for i in range(len(participant)):\n",
        "   answer = solution(participant[i], completion[i])\n",
        "   print(answer)"
      ],
      "execution_count": 16,
      "outputs": [
        {
          "output_type": "stream",
          "text": [
            "['eden', 'kiki', 'leo']\n",
            "['eden', 'kiki']\n",
            "leo\n",
            "['filipa', 'josipa', 'marina', 'nikola', 'vinko']\n",
            "['filipa', 'josipa', 'marina', 'nikola']\n",
            "vinko\n",
            "['ana', 'mislav', 'mislav', 'stanko']\n",
            "['ana', 'mislav', 'stanko']\n",
            "mislav\n"
          ],
          "name": "stdout"
        }
      ]
    }
  ]
}