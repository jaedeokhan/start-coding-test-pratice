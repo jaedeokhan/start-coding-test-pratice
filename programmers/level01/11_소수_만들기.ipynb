{
  "nbformat": 4,
  "nbformat_minor": 0,
  "metadata": {
    "colab": {
      "name": "11_소수 만들기.ipynb",
      "provenance": [],
      "authorship_tag": "ABX9TyOiMYlegydozdE5xrRS/117",
      "include_colab_link": true
    },
    "kernelspec": {
      "name": "python3",
      "display_name": "Python 3"
    },
    "language_info": {
      "name": "python"
    }
  },
  "cells": [
    {
      "cell_type": "markdown",
      "metadata": {
        "id": "view-in-github",
        "colab_type": "text"
      },
      "source": [
        "<a href=\"https://colab.research.google.com/github/jaedeokhan/start-coding-test-pratice/blob/main/programmers/level01/11_%EC%86%8C%EC%88%98_%EB%A7%8C%EB%93%A4%EA%B8%B0.ipynb\" target=\"_parent\"><img src=\"https://colab.research.google.com/assets/colab-badge.svg\" alt=\"Open In Colab\"/></a>"
      ]
    },
    {
      "cell_type": "markdown",
      "metadata": {
        "id": "quVssTIxrMGU"
      },
      "source": [
        "### 문제 : 소수 만들기"
      ]
    },
    {
      "cell_type": "code",
      "metadata": {
        "id": "jFXp4Fw-rNZX",
        "colab": {
          "base_uri": "https://localhost:8080/"
        },
        "outputId": "553d64fe-0ab6-4015-be9e-0547d13ef6e6"
      },
      "source": [
        " ### 입력값\n",
        "num = [[1,2,3,4],[1,2,7,6,4]]\n",
        "###\n",
        " \n",
        "### 문제\n",
        "def solution(num):\n",
        "    \n",
        "    from itertools import combinations\n",
        " \n",
        "    answer = 0\n",
        " \n",
        "    combi = list(combinations(num, 3))\n",
        "    \n",
        "    for i, j, k in combi:\n",
        "       if isPrime(i+j+k):\n",
        "          answer += 1\n",
        "    \n",
        "    return answer\n",
        " \n",
        "def isPrime(num):\n",
        "       \n",
        "    # 소수 1이 아니고, 2 3 5 7 \n",
        "    if num != 1:\n",
        "       for f in range(2, num):\n",
        "          if num % f == 0:\n",
        "              return False\n",
        " \n",
        "    else:\n",
        "       return False\n",
        "    \n",
        "    return True\n",
        " \n",
        "### 출력\n",
        "for i in range(len(num)):\n",
        "   print(\"================================\")\n",
        "   print(f'Start : {i+1}')\n",
        "   answer = solution(num[i])\n",
        "   print(answer)\n",
        "   print(\"================================\\n\")"
      ],
      "execution_count": null,
      "outputs": [
        {
          "output_type": "stream",
          "text": [
            "================================\n",
            "Start : 1\n",
            "1\n",
            "================================\n",
            "\n",
            "================================\n",
            "Start : 2\n",
            "4\n",
            "================================\n",
            "\n"
          ],
          "name": "stdout"
        }
      ]
    }
  ]
}