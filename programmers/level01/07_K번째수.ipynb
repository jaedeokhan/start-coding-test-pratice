{
  "nbformat": 4,
  "nbformat_minor": 0,
  "metadata": {
    "colab": {
      "name": "7_K번째수.ipynb",
      "provenance": [],
      "collapsed_sections": [],
      "authorship_tag": "ABX9TyNLtpsSZ3PTMKg1Ha28aVP6",
      "include_colab_link": true
    },
    "kernelspec": {
      "name": "python3",
      "display_name": "Python 3"
    },
    "language_info": {
      "name": "python"
    }
  },
  "cells": [
    {
      "cell_type": "markdown",
      "metadata": {
        "id": "view-in-github",
        "colab_type": "text"
      },
      "source": [
        "<a href=\"https://colab.research.google.com/github/jaedeokhan/start-coding-test-pratice/blob/main/programmers/level01/7_K%EB%B2%88%EC%A7%B8%EC%88%98.ipynb\" target=\"_parent\"><img src=\"https://colab.research.google.com/assets/colab-badge.svg\" alt=\"Open In Colab\"/></a>"
      ]
    },
    {
      "cell_type": "markdown",
      "metadata": {
        "id": "Yr_opif5jr3F"
      },
      "source": [
        "### 문제 : K번째 수\n",
        "배열 array, [i, j, k]를 원소로 가진 2차원 배열 commands가 매개변수로 주어질 때, commands의 모든 원소에 대해 앞서 설명한 연산을 적용했을 때 나온 결과를 배열에 담아 return 하도록 solution 함수를 작성해주세요.\n",
        "\n",
        "#### 1. 첫 번째 방법"
      ]
    },
    {
      "cell_type": "code",
      "metadata": {
        "colab": {
          "base_uri": "https://localhost:8080/"
        },
        "id": "nSk6KRCLjjae",
        "outputId": "dd9feda9-ed83-4805-c795-d9378e06da00"
      },
      "source": [
        "### 입력값\n",
        "array = [ [1,5,2,6,3,7,4] ]\n",
        "commands = [ [[2,5,3], [4,4,1], [1,7,3]] ]\n",
        "###\n",
        " \n",
        "### 문제\n",
        "def solution(array, commands):\n",
        "    answer = []\n",
        "\n",
        "    for i,j,k in commands:\n",
        "        temp = array[i-1:j]\n",
        "        answer.append(sorted(temp)[k-1])\n",
        "        \n",
        "    return answer\n",
        " \n",
        "### 출력\n",
        "for i in range(len(array)):\n",
        "   print(\"================================\")\n",
        "   print(f'Start : {i+1}')\n",
        "   answer = solution(array[i], commands[i])\n",
        "   print(answer)\n",
        "   print(\"================================\\n\")"
      ],
      "execution_count": 5,
      "outputs": [
        {
          "output_type": "stream",
          "text": [
            "================================\n",
            "Start : 1\n",
            "[5, 6, 3]\n",
            "================================\n",
            "\n"
          ],
          "name": "stdout"
        }
      ]
    },
    {
      "cell_type": "markdown",
      "metadata": {
        "id": "mPSo8UZIls4V"
      },
      "source": [
        "2. 첫 번째 방법의 11~12행의 코드를 줄이는 방법"
      ]
    },
    {
      "cell_type": "code",
      "metadata": {
        "colab": {
          "base_uri": "https://localhost:8080/"
        },
        "id": "ELMPrHBvjpzu",
        "outputId": "314cc955-6006-4d12-dd67-ef682142526a"
      },
      "source": [
        "### 입력값\n",
        "array = [ [1,5,2,6,3,7,4] ]\n",
        "commands = [ [[2,5,3], [4,4,1], [1,7,3]] ]\n",
        "###\n",
        " \n",
        "### 문제\n",
        "def solution(array, commands):\n",
        "    answer = []\n",
        "\n",
        "    for i,j,k in commands:\n",
        "        answer.append(sorted(array[i-1:j])[k-1])\n",
        "        \n",
        "    return answer\n",
        " \n",
        "### 출력\n",
        "for i in range(len(array)):\n",
        "   print(\"================================\")\n",
        "   print(f'Start : {i+1}')\n",
        "   answer = solution(array[i], commands[i])\n",
        "   print(answer)\n",
        "   print(\"================================\\n\")"
      ],
      "execution_count": 4,
      "outputs": [
        {
          "output_type": "stream",
          "text": [
            "================================\n",
            "Start : 1\n",
            "[5, 6, 3]\n",
            "================================\n",
            "\n"
          ],
          "name": "stdout"
        }
      ]
    }
  ]
}
