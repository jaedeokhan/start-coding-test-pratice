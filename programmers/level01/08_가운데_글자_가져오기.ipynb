{
  "nbformat": 4,
  "nbformat_minor": 0,
  "metadata": {
    "colab": {
      "name": "8_가운데 글자 가져오기.ipynb",
      "provenance": [],
      "collapsed_sections": [],
      "authorship_tag": "ABX9TyOQ/E48PpHOA5EgDBsmXNUs",
      "include_colab_link": true
    },
    "kernelspec": {
      "name": "python3",
      "display_name": "Python 3"
    },
    "language_info": {
      "name": "python"
    }
  },
  "cells": [
    {
      "cell_type": "markdown",
      "metadata": {
        "id": "view-in-github",
        "colab_type": "text"
      },
      "source": [
        "<a href=\"https://colab.research.google.com/github/jaedeokhan/start-coding-test-pratice/blob/main/programmers/level01/8_%EA%B0%80%EC%9A%B4%EB%8D%B0_%EA%B8%80%EC%9E%90_%EA%B0%80%EC%A0%B8%EC%98%A4%EA%B8%B0.ipynb\" target=\"_parent\"><img src=\"https://colab.research.google.com/assets/colab-badge.svg\" alt=\"Open In Colab\"/></a>"
      ]
    },
    {
      "cell_type": "markdown",
      "metadata": {
        "id": "cz1GtVRUmlFz"
      },
      "source": [
        "### 문제 : 가운데 글자 가져오기\n",
        "단어 s의 가운데 글자를 반환하는 함수, solution을 만들어 보세요.\n",
        "\n",
        "단어의 길이가 짝수라면 가운데 두글자를 반환하면 됩니다\n",
        "\n",
        "#### 1. 첫 번째 방법"
      ]
    },
    {
      "cell_type": "code",
      "metadata": {
        "colab": {
          "base_uri": "https://localhost:8080/"
        },
        "id": "fUyWGZfGmvBv",
        "outputId": "9fc22ce0-0d04-4e87-c6d5-aa06ae74b893"
      },
      "source": [
        "### 입력값\n",
        "s = [ \"abcde\", \"qwer\" ]\n",
        "###\n",
        " \n",
        "### 문제\n",
        "def solution(s):\n",
        "\n",
        "    quotient = len(s) // 2\n",
        "    remainder = len(s) % 2\n",
        "\n",
        "    # if remainder   => 홀수의 나머지는 1\n",
        "    # else remainder => 짝수의 나머지는 0 \n",
        "    return s[quotient] if remainder else s[quotient-1:quotient+1]\n",
        "\n",
        "### 출력\n",
        "for i in range(len(s)):\n",
        "   print(\"================================\")\n",
        "   print(f'Start : {i+1}')\n",
        "   answer = solution(s[i])\n",
        "   print(answer)\n",
        "   print(\"================================\\n\")"
      ],
      "execution_count": null,
      "outputs": [
        {
          "output_type": "stream",
          "text": [
            "================================\n",
            "Start : 1\n",
            "c\n",
            "================================\n",
            "\n",
            "================================\n",
            "Start : 2\n",
            "we\n",
            "================================\n",
            "\n"
          ],
          "name": "stdout"
        }
      ]
    }
  ]
}
