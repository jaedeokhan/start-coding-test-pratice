{
  "nbformat": 4,
  "nbformat_minor": 0,
  "metadata": {
    "colab": {
      "name": "14_폰켓몬.ipynb",
      "provenance": [],
      "collapsed_sections": [],
      "authorship_tag": "ABX9TyPuebV8P0Vv1Djw0ZeEu3Z9",
      "include_colab_link": true
    },
    "kernelspec": {
      "name": "python3",
      "display_name": "Python 3"
    },
    "language_info": {
      "name": "python"
    }
  },
  "cells": [
    {
      "cell_type": "markdown",
      "metadata": {
        "id": "view-in-github",
        "colab_type": "text"
      },
      "source": [
        "<a href=\"https://colab.research.google.com/github/jaedeokhan/start-coding-test-pratice/blob/main/programmers/level01/14_%ED%8F%B0%EC%BC%93%EB%AA%AC.ipynb\" target=\"_parent\"><img src=\"https://colab.research.google.com/assets/colab-badge.svg\" alt=\"Open In Colab\"/></a>"
      ]
    },
    {
      "cell_type": "markdown",
      "metadata": {
        "id": "AWJjUm-mi4dw"
      },
      "source": [
        "### 문제 : [폰켓몬](https://programmers.co.kr/learn/courses/30/lessons/1845)\n",
        "* level01\n",
        "\n",
        "당신은 최대한 다양한 종류의 폰켓몬을 가지길 원하기 때문에, 최대한 많은 종류의 폰켓몬을 포함해서 N/2마리를 선택하려 합니다. N마리 폰켓몬의 종류 번호가 담긴 배열 nums가 매개변수로 주어질 때, N/2마리의 폰켓몬을 선택하는 방법 중, 가장 많은 종류의 폰켓몬을 선택하는 방법을 찾아, 그때의 폰켓몬 종류 번호의 개수를 return 하도록 solution 함수를 완성해주세요."
      ]
    },
    {
      "cell_type": "code",
      "metadata": {
        "colab": {
          "base_uri": "https://localhost:8080/"
        },
        "id": "BmfBWL-ji0q_",
        "outputId": "17bab41e-ce24-487e-be71-2abee8c1e83d"
      },
      "source": [
        "### 입력값\n",
        "nums = [[3,1,2,3], [3,3,3,2,2,4], [3,3,3,2,2,2]]\n",
        "###\n",
        "\n",
        "### 문제\n",
        "def solution(nums):\n",
        "\n",
        "    answer = 0\n",
        "    \n",
        "    # 중복되지 않는 폰켓몬의 수\n",
        "    unique_count = len(set(nums))\n",
        "    \n",
        "    # N / 2마리 선택 방법 > 중복 되지 않는 수\n",
        "    if len(nums) // 2 > unique_count:\n",
        "        return unique_count\n",
        "    else:\n",
        "        return len(nums) // 2\n",
        "    \n",
        "### 출력\n",
        "for i in range(len(nums)):\n",
        "   print(\"================================\")\n",
        "   print(f'Start : {i+1}')\n",
        "   answer = solution(nums[i])\n",
        "   print(answer)\n",
        "   print(\"================================\")"
      ],
      "execution_count": 1,
      "outputs": [
        {
          "output_type": "stream",
          "text": [
            "================================\n",
            "Start : 1\n",
            "2\n",
            "================================\n",
            "================================\n",
            "Start : 2\n",
            "3\n",
            "================================\n",
            "================================\n",
            "Start : 3\n",
            "2\n",
            "================================\n"
          ],
          "name": "stdout"
        }
      ]
    }
  ]
}