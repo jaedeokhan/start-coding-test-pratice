{
  "nbformat": 4,
  "nbformat_minor": 0,
  "metadata": {
    "colab": {
      "name": "10_3진법 뒤집기.ipynb",
      "provenance": [],
      "collapsed_sections": [],
      "authorship_tag": "ABX9TyP+VzgCIldMVdgzlpGdaalV",
      "include_colab_link": true
    },
    "kernelspec": {
      "name": "python3",
      "display_name": "Python 3"
    },
    "language_info": {
      "name": "python"
    }
  },
  "cells": [
    {
      "cell_type": "markdown",
      "metadata": {
        "id": "view-in-github",
        "colab_type": "text"
      },
      "source": [
        "<a href=\"https://colab.research.google.com/github/jaedeokhan/start-coding-test-pratice/blob/main/programmers/level01/10_3%EC%A7%84%EB%B2%95_%EB%92%A4%EC%A7%91%EA%B8%B0.ipynb\" target=\"_parent\"><img src=\"https://colab.research.google.com/assets/colab-badge.svg\" alt=\"Open In Colab\"/></a>"
      ]
    },
    {
      "cell_type": "markdown",
      "metadata": {
        "id": "iWQvspl76-HU"
      },
      "source": [
        "### 문제 : 같은 숫자는 싫어\n",
        "배열 arr가 주어집니다. 배열 arr의 각 원소는 숫자 0부터 9까지로 이루어져 있습니다. 이때, 배열 arr에서 연속적으로 나타나는 숫자는 하나만 남기고 전부 제거하려고 합니다. 단, 제거된 후 남은 수들을 반환할 때는 배열 arr의 원소들의 순서를 유지해야 합니다"
      ]
    },
    {
      "cell_type": "code",
      "metadata": {
        "colab": {
          "base_uri": "https://localhost:8080/"
        },
        "id": "JWfhGL5j7DUz",
        "outputId": "3807fdd2-5d6c-4fe4-a26e-9749a3a585c0"
      },
      "source": [
        "### 입력값\n",
        "n = [45, 125]\n",
        "###\n",
        " \n",
        "### 문제\n",
        "def solution(n):\n",
        "    answer = 0\n",
        "    three = ''\n",
        "    \n",
        "    while True:\n",
        "        n,remainder = divmod(n, 3)\n",
        "        three += str(remainder)\n",
        "     \n",
        "        if n == 0:\n",
        "            break\n",
        "    \n",
        "    multi = 3\n",
        "    for t in range(len(three)-1, -1, -1):\n",
        "        if t == len(three)-1:\n",
        "            answer = int(three[t]) * 1\n",
        "            continue\n",
        "        answer = answer + int(three[t]) * multi\n",
        "        multi *= 3\n",
        "    \n",
        "    return answer\n",
        "    \n",
        "### 출력\n",
        "for i in range(len(n)):\n",
        "   print(\"================================\")\n",
        "   print(f'Start : {i+1}')\n",
        "   answer = solution(n[i])\n",
        "   print(answer)\n",
        "   print(\"================================\\n\")"
      ],
      "execution_count": 4,
      "outputs": [
        {
          "output_type": "stream",
          "text": [
            "================================\n",
            "Start : 1\n",
            "7\n",
            "================================\n",
            "\n",
            "================================\n",
            "Start : 2\n",
            "229\n",
            "================================\n",
            "\n"
          ],
          "name": "stdout"
        }
      ]
    }
  ]
}