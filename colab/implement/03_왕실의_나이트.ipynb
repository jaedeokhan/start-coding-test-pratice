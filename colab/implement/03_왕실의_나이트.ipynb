{
  "nbformat": 4,
  "nbformat_minor": 0,
  "metadata": {
    "colab": {
      "name": "03_왕실의 나이트.ipynb",
      "provenance": [],
      "collapsed_sections": [],
      "authorship_tag": "ABX9TyOguZkFk85oASldq/Izr1Ti",
      "include_colab_link": true
    },
    "kernelspec": {
      "name": "python3",
      "display_name": "Python 3"
    },
    "language_info": {
      "name": "python"
    }
  },
  "cells": [
    {
      "cell_type": "markdown",
      "metadata": {
        "id": "view-in-github",
        "colab_type": "text"
      },
      "source": [
        "<a href=\"https://colab.research.google.com/github/jaedeokhan/start-coding-test-pratice/blob/main/python/colab/implement/03_%EC%99%95%EC%8B%A4%EC%9D%98_%EB%82%98%EC%9D%B4%ED%8A%B8.ipynb\" target=\"_parent\"><img src=\"https://colab.research.google.com/assets/colab-badge.svg\" alt=\"Open In Colab\"/></a>"
      ]
    },
    {
      "cell_type": "markdown",
      "metadata": {
        "id": "xf2wv2xL2KIv"
      },
      "source": [
        "## 문제 : p115 왕실의 나이트"
      ]
    },
    {
      "cell_type": "code",
      "metadata": {
        "colab": {
          "base_uri": "https://localhost:8080/"
        },
        "id": "uOQuD6ip2LLx",
        "outputId": "158b983d-1751-4065-e34b-c57d0c5977f8"
      },
      "source": [
        "### 입력값\n",
        "locations = ['a1', 'c2', 'c3']\n",
        "###\n",
        "\n",
        "### 문제\n",
        "def solution(location):\n",
        "\n",
        "    answer = 0 \n",
        "    \n",
        "    # 나이트의 현재 col 위치\n",
        "    row = int(location[1])\n",
        "    col = int(ord(location[0])) - int(ord('a')) + 1\n",
        "    print(row, col)\n",
        "\n",
        "    # 나이트가 이동할 수 있는 8가지 방향 정의\n",
        "    steps = [\n",
        "             (-2, -1), (-1, -2), (1, -2), (2, -1),\n",
        "             (2, 1), (1, 2), (-1, 2), (-2, 1)\n",
        "    ]\n",
        "\n",
        "    for step in steps: # 8가지 방향에 대하여 각 위치로 이동이 가능한지 확인\n",
        "        # 이동하고자 하는 위치 확인\n",
        "        next_row = row + step[0]\n",
        "        next_col = col + step[1]\n",
        "        \n",
        "        # 해당 위치로 이동이 가능하면 카운트 증가\n",
        "        if next_row >= 1 and next_row <= 8 and next_col >= 1 and next_col <= 8:\n",
        "            answer += 1\n",
        "\n",
        "    return answer\n",
        "\n",
        "    \n",
        "### 출력\n",
        "for i in range(len(locations)):\n",
        "   print(\"================================\")\n",
        "   print(f'Start : {i+1}')\n",
        "   answer = solution(locations[i])\n",
        "   print(f'answer : {answer}')\n",
        "   print(\"================================\")"
      ],
      "execution_count": 24,
      "outputs": [
        {
          "output_type": "stream",
          "text": [
            "================================\n",
            "Start : 1\n",
            "1 1\n",
            "answer : 2\n",
            "================================\n",
            "================================\n",
            "Start : 2\n",
            "2 3\n",
            "answer : 6\n",
            "================================\n",
            "================================\n",
            "Start : 3\n",
            "3 3\n",
            "answer : 8\n",
            "================================\n"
          ],
          "name": "stdout"
        }
      ]
    }
  ]
}