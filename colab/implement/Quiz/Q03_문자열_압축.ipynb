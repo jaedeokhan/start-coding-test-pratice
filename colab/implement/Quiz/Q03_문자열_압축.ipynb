{
  "nbformat": 4,
  "nbformat_minor": 0,
  "metadata": {
    "colab": {
      "name": "Q03_문자열 압축.ipynb",
      "provenance": [],
      "collapsed_sections": [],
      "authorship_tag": "ABX9TyNbfKBQHR8uEF4UKTmbPMEZ",
      "include_colab_link": true
    },
    "kernelspec": {
      "name": "python3",
      "display_name": "Python 3"
    },
    "language_info": {
      "name": "python"
    }
  },
  "cells": [
    {
      "cell_type": "markdown",
      "metadata": {
        "id": "view-in-github",
        "colab_type": "text"
      },
      "source": [
        "<a href=\"https://colab.research.google.com/github/jaedeokhan/start-coding-test-pratice/blob/main/python/colab/implement/Quiz/Q03_%EB%AC%B8%EC%9E%90%EC%97%B4_%EC%95%95%EC%B6%95.ipynb\" target=\"_parent\"><img src=\"https://colab.research.google.com/assets/colab-badge.svg\" alt=\"Open In Colab\"/></a>"
      ]
    },
    {
      "cell_type": "markdown",
      "metadata": {
        "id": "8L0rxwqN6lLI"
      },
      "source": [
        "## 문제 : [구현] p323 문자열 압축"
      ]
    },
    {
      "cell_type": "code",
      "metadata": {
        "colab": {
          "base_uri": "https://localhost:8080/"
        },
        "id": "g2fLkQBu7H-J",
        "outputId": "a70c59c4-fc9d-401b-8e7f-57155923ee76"
      },
      "source": [
        "### 입력값\n",
        "s = ['ababcdcd','aabbaccc', 'ababcdcdababcdcd', 'abcabcdede', 'abcabcabcabcdededededede', 'xababcdcdababcdcd']\n",
        "###\n",
        "\n",
        "### 문제\n",
        "def solution(s):\n",
        "    \n",
        "    answer = len(s)\n",
        "    # 1개 단위(step)부터 압축 단위를 늘려가며 확인\n",
        "    for step in range(1, len(s) // 2 + 1): # 1, 5\n",
        "        compressed = \"\"\n",
        "        prev = s[0:step] # 앞에서부터 step만큼의 문자열 추출\n",
        "        count = 1\n",
        "        # 단위(step) 크기만큼 증가시키며 이전 문자열과 비교\n",
        "        for j in range(step, len(s), step):\n",
        "            # 이전 상태와 동일하다면 압축 횟수(count) 증가\n",
        "            if prev == s[j:j + step]:\n",
        "                count += 1\n",
        "            # 다른 문자열이 나왔다면(더 이상 압축하지 못하는 경우라면)\n",
        "            else:\n",
        "                compressed += str(count) + prev if count >= 2 else prev\n",
        "                prev = s[j:j + step] # 상태 초기화\n",
        "                count = 1\n",
        "        # 남아있는 문자열에 대해서 처리\n",
        "        compressed += str(count) + prev if count >= 2 else prev\n",
        "        # 만들어지는 압축 문자열이 가장 짧은 것이 정답\n",
        "        answer = min(answer, len(compressed))\n",
        "\n",
        "    return answer\n",
        "\n",
        "    \n",
        "### 출력\n",
        "for i in range(len(s)):\n",
        "   print(\"================================\")\n",
        "   print(f'Start : {i+1}')\n",
        "   answer = solution(s[i])\n",
        "   print(f'answer : {answer}')\n",
        "   print(\"================================\")"
      ],
      "execution_count": 13,
      "outputs": [
        {
          "output_type": "stream",
          "text": [
            "================================\n",
            "Start : 1\n",
            "answer : 6\n",
            "================================\n",
            "================================\n",
            "Start : 2\n",
            "answer : 7\n",
            "================================\n",
            "================================\n",
            "Start : 3\n",
            "answer : 9\n",
            "================================\n",
            "================================\n",
            "Start : 4\n",
            "answer : 8\n",
            "================================\n",
            "================================\n",
            "Start : 5\n",
            "answer : 14\n",
            "================================\n",
            "================================\n",
            "Start : 6\n",
            "answer : 17\n",
            "================================\n"
          ],
          "name": "stdout"
        }
      ]
    }
  ]
}