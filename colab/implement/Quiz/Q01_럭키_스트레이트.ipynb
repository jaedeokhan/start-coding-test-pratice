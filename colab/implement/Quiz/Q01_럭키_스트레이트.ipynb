{
  "nbformat": 4,
  "nbformat_minor": 0,
  "metadata": {
    "colab": {
      "name": "Q01_럭키 스트레이트.ipynb",
      "provenance": [],
      "collapsed_sections": [],
      "authorship_tag": "ABX9TyOC18miZLqC3d4xBTxWrgwQ",
      "include_colab_link": true
    },
    "kernelspec": {
      "name": "python3",
      "display_name": "Python 3"
    },
    "language_info": {
      "name": "python"
    }
  },
  "cells": [
    {
      "cell_type": "markdown",
      "metadata": {
        "id": "view-in-github",
        "colab_type": "text"
      },
      "source": [
        "<a href=\"https://colab.research.google.com/github/jaedeokhan/start-coding-test-pratice/blob/main/python/colab/implement/Quiz/Q01_%EB%9F%AD%ED%82%A4_%EC%8A%A4%ED%8A%B8%EB%A0%88%EC%9D%B4%ED%8A%B8.ipynb\" target=\"_parent\"><img src=\"https://colab.research.google.com/assets/colab-badge.svg\" alt=\"Open In Colab\"/></a>"
      ]
    },
    {
      "cell_type": "markdown",
      "metadata": {
        "id": "V3BwqnuLSwp3"
      },
      "source": [
        "## 문제 : [구현] p321 럭키 스트레이트"
      ]
    },
    {
      "cell_type": "markdown",
      "metadata": {
        "id": "sm4_2jotWVCc"
      },
      "source": [
        "### 1. 리스트를 사용한 해결 방법"
      ]
    },
    {
      "cell_type": "code",
      "metadata": {
        "colab": {
          "base_uri": "https://localhost:8080/"
        },
        "id": "Au8FlV_1SxpJ",
        "outputId": "d9ed20c7-20f7-4210-cd18-5dc5b2f371c1"
      },
      "source": [
        "### 입력값\n",
        "N = [123402, 7755, 1234512345, 1234]\n",
        "###\n",
        "\n",
        "### 문제\n",
        "def solution(N):\n",
        "    \n",
        "    front = str(N)[:len(str(N)) // 2]\n",
        "    rear = str(N)[len(str(N)) // 2:]\n",
        "    \n",
        "    front_sum = 0 \n",
        "    rear_sum = 0 \n",
        "\n",
        "    for i in range(len(str(front))):\n",
        "        front_sum += int(front[i])\n",
        "        rear_sum += int(rear[i])\n",
        "\n",
        "    return 'LUCKY' if front_sum == rear_sum else 'READY'\n",
        "\n",
        "    \n",
        "### 출력\n",
        "for i in range(len(N)):\n",
        "   print(\"================================\")\n",
        "   print(f'Start : {i+1}')\n",
        "   answer = solution(N[i])\n",
        "   print(f'answer : {answer}')\n",
        "   print(\"================================\")"
      ],
      "execution_count": null,
      "outputs": [
        {
          "output_type": "stream",
          "text": [
            "================================\n",
            "Start : 1\n",
            "answer : LUCKY\n",
            "================================\n",
            "================================\n",
            "Start : 2\n",
            "answer : READY\n",
            "================================\n",
            "================================\n",
            "Start : 3\n",
            "answer : LUCKY\n",
            "================================\n",
            "================================\n",
            "Start : 4\n",
            "answer : READY\n",
            "================================\n"
          ],
          "name": "stdout"
        }
      ]
    },
    {
      "cell_type": "markdown",
      "metadata": {
        "id": "s49SFvNQWZQD"
      },
      "source": [
        "### 2. 리스트 내포식과 sum()을 사용한 해결방법"
      ]
    },
    {
      "cell_type": "code",
      "metadata": {
        "colab": {
          "base_uri": "https://localhost:8080/"
        },
        "id": "9WFQvlIXVBrL",
        "outputId": "fd8dc2b0-00e8-4235-9adf-613cec467ddf"
      },
      "source": [
        "### 입력값\n",
        "N = [123402, 7755, 1234512345, 1234]\n",
        "###\n",
        "\n",
        "### 문제\n",
        "def solution(N):\n",
        "    \n",
        "    front = [int(i) for i in str(N)[:len(str(N)) // 2] ] \n",
        "    rear = [int(i) for i in str(N)[len(str(N)) // 2:] ]\n",
        "\n",
        "    return 'LUCKY' if sum(front) == sum(rear) else 'READY'\n",
        "\n",
        "    \n",
        "### 출력\n",
        "for i in range(len(N)):\n",
        "   print(\"================================\")\n",
        "   print(f'Start : {i+1}')\n",
        "   answer = solution(N[i])\n",
        "   print(f'N : {N[i]} \\nanswer : {answer}')\n",
        "   print(\"================================\")"
      ],
      "execution_count": null,
      "outputs": [
        {
          "output_type": "stream",
          "text": [
            "================================\n",
            "Start : 1\n",
            "N : 123402 \n",
            "answer : LUCKY\n",
            "================================\n",
            "================================\n",
            "Start : 2\n",
            "N : 7755 \n",
            "answer : READY\n",
            "================================\n",
            "================================\n",
            "Start : 3\n",
            "N : 1234512345 \n",
            "answer : LUCKY\n",
            "================================\n",
            "================================\n",
            "Start : 4\n",
            "N : 1234 \n",
            "answer : READY\n",
            "================================\n"
          ],
          "name": "stdout"
        }
      ]
    },
    {
      "cell_type": "markdown",
      "metadata": {
        "id": "5g-AaZLWWiCL"
      },
      "source": [
        "### 3. 정답 해설 "
      ]
    },
    {
      "cell_type": "code",
      "metadata": {
        "colab": {
          "base_uri": "https://localhost:8080/"
        },
        "id": "ig8_RhnKWicq",
        "outputId": "833ed689-6ee1-4b0f-f9ac-9483d0e54cb8"
      },
      "source": [
        "### 입력값\n",
        "N = [123402, 7755, 1234512345, 1234]\n",
        "###\n",
        "\n",
        "### 문제\n",
        "def solution(N):\n",
        "    \n",
        "    N = str(N)\n",
        "\n",
        "    length = len(N)\n",
        "    summary = 0\n",
        "\n",
        "    # 왼쪽 부분의 합 더하기\n",
        "    for i in range(length // 2):\n",
        "        summary += int(N[i])\n",
        "\n",
        "    # 오른쪽\n",
        "    for i in range(length // 2, length):\n",
        "        summary -= int(N[i])\n",
        "\n",
        "    return 'LUCKY' if summary == 0 else 'READY'\n",
        "\n",
        "    \n",
        "### 출력\n",
        "for i in range(len(N)):\n",
        "   print(\"================================\")\n",
        "   print(f'Start : {i+1}')\n",
        "   answer = solution(N[i])\n",
        "   print(f'N : {N[i]} \\nanswer : {answer}')\n",
        "   print(\"================================\")"
      ],
      "execution_count": null,
      "outputs": [
        {
          "output_type": "stream",
          "text": [
            "================================\n",
            "Start : 1\n",
            "N : 123402 \n",
            "answer : LUCKY\n",
            "================================\n",
            "================================\n",
            "Start : 2\n",
            "N : 7755 \n",
            "answer : READY\n",
            "================================\n",
            "================================\n",
            "Start : 3\n",
            "N : 1234512345 \n",
            "answer : LUCKY\n",
            "================================\n",
            "================================\n",
            "Start : 4\n",
            "N : 1234 \n",
            "answer : READY\n",
            "================================\n"
          ],
          "name": "stdout"
        }
      ]
    }
  ]
}