{
  "nbformat": 4,
  "nbformat_minor": 0,
  "metadata": {
    "colab": {
      "name": "Q02_문자열 재정렬.ipynb",
      "provenance": [],
      "collapsed_sections": [],
      "authorship_tag": "ABX9TyMxWrD5tN8Lu3xK807vwtMk",
      "include_colab_link": true
    },
    "kernelspec": {
      "name": "python3",
      "display_name": "Python 3"
    },
    "language_info": {
      "name": "python"
    }
  },
  "cells": [
    {
      "cell_type": "markdown",
      "metadata": {
        "id": "view-in-github",
        "colab_type": "text"
      },
      "source": [
        "<a href=\"https://colab.research.google.com/github/jaedeokhan/start-coding-test-pratice/blob/main/python/colab/implement/Quiz/Q02_%EB%AC%B8%EC%9E%90%EC%97%B4_%EC%9E%AC%EC%A0%95%EB%A0%AC.ipynb\" target=\"_parent\"><img src=\"https://colab.research.google.com/assets/colab-badge.svg\" alt=\"Open In Colab\"/></a>"
      ]
    },
    {
      "cell_type": "markdown",
      "metadata": {
        "id": "oPNAvQJsR_jd"
      },
      "source": [
        "## 문제 : [구현] p322 문자열 재정렬"
      ]
    },
    {
      "cell_type": "code",
      "metadata": {
        "colab": {
          "base_uri": "https://localhost:8080/"
        },
        "id": "0434bYz4X9BN",
        "outputId": "f02b481c-cd55-46cf-ec8a-a6b8ed0b5c84"
      },
      "source": [
        "### 입력값\n",
        "strings = ['K1KA5CB7', 'AJKDLSI412K4JSJ9D', 'ABCDE']\n",
        "###\n",
        "\n",
        "### 문제\n",
        "def solution(string):\n",
        "    \n",
        "    alpha = []\n",
        "    digit = []\n",
        "\n",
        "    for s in string:\n",
        "        if s.isalpha():\n",
        "            alpha.append(s)\n",
        "        elif s.isdigit():\n",
        "            digit.append(int(s))\n",
        "\n",
        "    return ''.join(sorted(alpha)) + str(sum(digit))\n",
        "\n",
        "    \n",
        "### 출력\n",
        "for i in range(len(strings)):\n",
        "   print(\"================================\")\n",
        "   print(f'Start : {i+1}')\n",
        "   answer = solution(strings[i])\n",
        "   print(f'answer : {answer}')\n",
        "   print(\"================================\")"
      ],
      "execution_count": null,
      "outputs": [
        {
          "output_type": "stream",
          "text": [
            "================================\n",
            "Start : 1\n",
            "answer : ABCKK13\n",
            "================================\n",
            "================================\n",
            "Start : 2\n",
            "answer : ADDIJJJKKLSS20\n",
            "================================\n",
            "================================\n",
            "Start : 3\n",
            "answer : ABCDE0\n",
            "================================\n"
          ],
          "name": "stdout"
        }
      ]
    }
  ]
}