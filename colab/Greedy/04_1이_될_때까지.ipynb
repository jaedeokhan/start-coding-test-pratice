{
  "nbformat": 4,
  "nbformat_minor": 0,
  "metadata": {
    "colab": {
      "name": "04_1이 될 때까지.ipynb",
      "provenance": [],
      "collapsed_sections": [],
      "authorship_tag": "ABX9TyOOsmunTPWwl6Z5Ui1SgTGU",
      "include_colab_link": true
    },
    "kernelspec": {
      "name": "python3",
      "display_name": "Python 3"
    },
    "language_info": {
      "name": "python"
    }
  },
  "cells": [
    {
      "cell_type": "markdown",
      "metadata": {
        "id": "view-in-github",
        "colab_type": "text"
      },
      "source": [
        "<a href=\"https://colab.research.google.com/github/jaedeokhan/start-coding-test-pratice/blob/main/python/colab/Greedy/04_1%EC%9D%B4_%EB%90%A0_%EB%95%8C%EA%B9%8C%EC%A7%80.ipynb\" target=\"_parent\"><img src=\"https://colab.research.google.com/assets/colab-badge.svg\" alt=\"Open In Colab\"/></a>"
      ]
    },
    {
      "cell_type": "markdown",
      "metadata": {
        "id": "6FYu_YAC5ftp"
      },
      "source": [
        "## 문제 : 1이 될 때까지\n"
      ]
    },
    {
      "cell_type": "code",
      "metadata": {
        "colab": {
          "base_uri": "https://localhost:8080/"
        },
        "id": "1YQBniIa8aUE",
        "outputId": "18004138-ab29-4f94-aced-e306d7dacc8d"
      },
      "source": [
        "### 입력값\n",
        "n = [25, 17, 25, 27]\n",
        "k = [5, 4, 3, 3]\n",
        "###\n",
        "\n",
        "### 문제\n",
        "def solution(n,k):\n",
        "\n",
        "    answer = 0\n",
        "\n",
        "    # 1. n % k로 나누어떨어질 때만 => n을 k로 나눈다.\n",
        "    # 2. n % k로 나누어떨이지지 x =>  n에서 1을 뺀다.\n",
        "    # 3. n이 1이 되는 최소의 횟수를 구한다.\n",
        "\n",
        "    while n != 1:\n",
        "        if n % k == 0:\n",
        "            n //= k\n",
        "        else:\n",
        "            n -= 1\n",
        "\n",
        "        answer += 1\n",
        "\n",
        "    return answer\n",
        "\n",
        "    \n",
        "for i in range(len(n)):\n",
        "   print(\"================================\")\n",
        "   print(f'Start : {i+1}')\n",
        "   answer = solution(n[i], k[i])\n",
        "   print(answer)\n",
        "   print(\"================================\")    "
      ],
      "execution_count": 14,
      "outputs": [
        {
          "output_type": "stream",
          "text": [
            "================================\n",
            "Start : 1\n",
            "2\n",
            "================================\n",
            "================================\n",
            "Start : 2\n",
            "3\n",
            "================================\n",
            "================================\n",
            "Start : 3\n",
            "6\n",
            "================================\n",
            "================================\n",
            "Start : 4\n",
            "3\n",
            "================================\n"
          ],
          "name": "stdout"
        }
      ]
    },
    {
      "cell_type": "markdown",
      "metadata": {
        "id": "1-IelHG7_XTw"
      },
      "source": [
        "### 2. while문을 이용해서 푸는 두 번째 방식"
      ]
    },
    {
      "cell_type": "code",
      "metadata": {
        "colab": {
          "base_uri": "https://localhost:8080/"
        },
        "id": "3mzsaF1j_UAL",
        "outputId": "54ad5b59-b09b-470c-d816-98e2524f11b3"
      },
      "source": [
        "### 입력값\n",
        "n = [25, 17, 25, 27]\n",
        "k = [5, 4, 3, 3]\n",
        "###\n",
        "\n",
        "### 문제\n",
        "def solution(n,k):\n",
        "\n",
        "    answer = 0\n",
        "\n",
        "    # n이 k 이상이라면 계속해서 k로 나누기\n",
        "    while n >= k:\n",
        "        # n이 k로 나누어 떨어지지 않는다면 n에서 1씩 빼기\n",
        "        while n % k != 0:\n",
        "            n -= 1\n",
        "            answer += 1\n",
        "        \n",
        "        n //=  k\n",
        "        answer += 1\n",
        "    \n",
        "    # n=25, k=8일 경우 = 위의 12행에서 5번째 연산인 \n",
        "    # 2 > 3에서 반복문의 조건의 위반되어 빠져나와서 해당 while문에서 처리해준다.\n",
        "    while n > 1:\n",
        "        n -= 1\n",
        "        answer += 1\n",
        "        \n",
        "    return answer\n",
        "\n",
        "    \n",
        "for i in range(len(n)):\n",
        "   print(\"================================\")\n",
        "   print(f'Start : {i+1}')\n",
        "   answer = solution(n[i], k[i])\n",
        "   print(answer)\n",
        "   print(\"================================\")    "
      ],
      "execution_count": 17,
      "outputs": [
        {
          "output_type": "stream",
          "text": [
            "================================\n",
            "Start : 1\n",
            "2\n",
            "================================\n",
            "================================\n",
            "Start : 2\n",
            "3\n",
            "================================\n",
            "================================\n",
            "Start : 3\n",
            "6\n",
            "================================\n",
            "================================\n",
            "Start : 4\n",
            "3\n",
            "================================\n"
          ],
          "name": "stdout"
        }
      ]
    },
    {
      "cell_type": "markdown",
      "metadata": {
        "id": "-mM2o3XVAQI1"
      },
      "source": [
        "### 3. "
      ]
    },
    {
      "cell_type": "code",
      "metadata": {
        "colab": {
          "base_uri": "https://localhost:8080/"
        },
        "id": "kCCyVn8nAajp",
        "outputId": "3cf36429-b08b-4260-b3d3-2d73ed5c94ba"
      },
      "source": [
        "### 입력값\n",
        "n = [25, 17, 25, 27]\n",
        "k = [5, 4, 3, 3]\n",
        "###\n",
        "\n",
        "### 문제\n",
        "def solution(n,k):\n",
        "    # import time\n",
        "    # start_time = time.time()\n",
        "\n",
        "    answer = 0\n",
        "\n",
        "    while True:\n",
        "        # (N == K로 나누어 떨어지는 수)가 될 때까지 1씩 빼기\n",
        "        target = (n // k) * k\n",
        "        answer += (n - target)\n",
        "        n = target\n",
        "        # n이 k보다 작을 때(더 이상 나눌 수 없을 때 반복문 탈출)\n",
        "        if n < k:\n",
        "            break\n",
        "        # k로 나누기\n",
        "        answer += 1\n",
        "        n //= k\n",
        "    \n",
        "    answer += (n- 1)\n",
        "\n",
        "    # end_time = time.time()\n",
        "    # print(f'성능 측정 : {end_time - start_time}')\n",
        "    return answer\n",
        "\n",
        "    \n",
        "for i in range(len(n)):\n",
        "   print(\"================================\")\n",
        "   print(f'Start : {i+1}')\n",
        "   answer = solution(n[i], k[i])\n",
        "   print(answer)\n",
        "   print(\"================================\")    "
      ],
      "execution_count": 26,
      "outputs": [
        {
          "output_type": "stream",
          "text": [
            "================================\n",
            "Start : 1\n",
            "2\n",
            "================================\n",
            "================================\n",
            "Start : 2\n",
            "3\n",
            "================================\n",
            "================================\n",
            "Start : 3\n",
            "6\n",
            "================================\n",
            "================================\n",
            "Start : 4\n",
            "3\n",
            "================================\n"
          ],
          "name": "stdout"
        }
      ]
    }
  ]
}