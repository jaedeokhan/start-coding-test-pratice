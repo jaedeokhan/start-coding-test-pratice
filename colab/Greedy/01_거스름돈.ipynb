{
  "nbformat": 4,
  "nbformat_minor": 0,
  "metadata": {
    "colab": {
      "name": "01_거스름돈.ipynb",
      "provenance": [],
      "collapsed_sections": [],
      "authorship_tag": "ABX9TyP973yA4tXXGD9FgA47wZOR",
      "include_colab_link": true
    },
    "kernelspec": {
      "name": "python3",
      "display_name": "Python 3"
    },
    "language_info": {
      "name": "python"
    }
  },
  "cells": [
    {
      "cell_type": "markdown",
      "metadata": {
        "id": "view-in-github",
        "colab_type": "text"
      },
      "source": [
        "<a href=\"https://colab.research.google.com/github/jaedeokhan/start-coding-test-pratice/blob/main/colab/Greedy/01_%EA%B1%B0%EC%8A%A4%EB%A6%84%EB%8F%88.ipynb\" target=\"_parent\"><img src=\"https://colab.research.google.com/assets/colab-badge.svg\" alt=\"Open In Colab\"/></a>"
      ]
    },
    {
      "cell_type": "markdown",
      "metadata": {
        "id": "2wee9BaopPOx"
      },
      "source": [
        "### 문제 : 거스름돈\n",
        "\n",
        "당신은 음식점의 계산을 도와주는 점원이다. 카운터에는 거스름돈으로 사용할 500원, 100원, 50원, 10원짜리 동전이 무한히 존재한다고 가정한다. 손님에게 거슬러 줘야 할 돈이 N원일 때 거슬러 줘야 할 동전의 최소 개수를 구하라. 단, 거슬러 줘야 할 돈 N은 항상 10의 배수이다."
      ]
    },
    {
      "cell_type": "code",
      "metadata": {
        "colab": {
          "base_uri": "https://localhost:8080/"
        },
        "id": "oL-axGW-pCrQ",
        "outputId": "028b8d64-2c14-482c-c8c6-7b736ad9796e"
      },
      "source": [
        "### 입력값\n",
        "money = [1470, 550, 310, 10]\n",
        "###\n",
        "\n",
        "### 문제\n",
        "def solution(money):\n",
        "\n",
        "    answer = 0\n",
        "    coins = [500, 100, 50, 10]\n",
        "    \n",
        "    for coin in coins:\n",
        "        answer += money // coin\n",
        "        money %= coin\n",
        "\n",
        "    return answer\n",
        "\n",
        "    \n",
        "### 출력\n",
        "for i in range(len(money)):\n",
        "   print(\"================================\")\n",
        "   print(f'Start : {i+1}')\n",
        "   answer = solution(money[i])\n",
        "   print(f'{money[i]}원 => {answer}개')\n",
        "   print(\"================================\")"
      ],
      "execution_count": 4,
      "outputs": [
        {
          "output_type": "stream",
          "text": [
            "================================\n",
            "Start : 1\n",
            "1470원 => 9개\n",
            "================================\n",
            "================================\n",
            "Start : 2\n",
            "550원 => 2개\n",
            "================================\n",
            "================================\n",
            "Start : 3\n",
            "310원 => 4개\n",
            "================================\n",
            "================================\n",
            "Start : 4\n",
            "10원 => 1개\n",
            "================================\n"
          ],
          "name": "stdout"
        }
      ]
    }
  ]
}