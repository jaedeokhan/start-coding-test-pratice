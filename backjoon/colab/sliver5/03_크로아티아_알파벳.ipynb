{
  "nbformat": 4,
  "nbformat_minor": 0,
  "metadata": {
    "colab": {
      "name": "03_크로아티아 알파벳.ipynb",
      "provenance": [],
      "collapsed_sections": [],
      "authorship_tag": "ABX9TyP1dXB0lmY2XZAGN94D3dh+",
      "include_colab_link": true
    },
    "kernelspec": {
      "name": "python3",
      "display_name": "Python 3"
    },
    "language_info": {
      "name": "python"
    }
  },
  "cells": [
    {
      "cell_type": "markdown",
      "metadata": {
        "id": "view-in-github",
        "colab_type": "text"
      },
      "source": [
        "<a href=\"https://colab.research.google.com/github/jaedeokhan/start-coding-test-pratice/blob/main/backjoon/colab/sliver5/03_%ED%81%AC%EB%A1%9C%EC%95%84%ED%8B%B0%EC%95%84_%EC%95%8C%ED%8C%8C%EB%B2%B3.ipynb\" target=\"_parent\"><img src=\"https://colab.research.google.com/assets/colab-badge.svg\" alt=\"Open In Colab\"/></a>"
      ]
    },
    {
      "cell_type": "markdown",
      "metadata": {
        "id": "2rcGcBhunRO5"
      },
      "source": [
        "## 문제 : [03_크로아티아 알파벳](https://www.acmicpc.net/problem/2941)\n",
        "\n",
        "## 입력\n",
        "첫째 줄에 최대 100글자의 단어가 주어진다. 알파벳 소문자와 '-', '='로만 이루어져 있다.\n",
        "\n",
        "단어는 크로아티아 알파벳으로 이루어져 있다. 문제 설명의 표에 나와있는 알파벳은 변경된 형태로 입력된다.\n",
        "\n",
        "### 출력\n",
        "입력으로 주어진 단어가 몇 개의 크로아티아 알파벳으로 이루어져 있는지 출력한다.."
      ]
    },
    {
      "cell_type": "code",
      "metadata": {
        "colab": {
          "base_uri": "https://localhost:8080/"
        },
        "id": "uZABe_3enVXM",
        "outputId": "ff0e069b-f8ab-442c-8dd8-ae0895b03647"
      },
      "source": [
        "### 입력값\n",
        "strings = ['ljes=njak', 'ddz=z=', 'nljj', 'c=c=']\n",
        "###\n",
        "\n",
        "### 문제\n",
        "def solution(string):\n",
        "\n",
        "    two_alpha = ['c=', 'c-', 'dz=', 'd-', 'lj', 'nj', 's=', 'z=']\n",
        "    cnt = 0\n",
        "\n",
        "    for a in two_alpha:\n",
        "\n",
        "        two_cnt = string.count(a)\n",
        "        \n",
        "        if two_cnt > 0:\n",
        "            cnt += two_cnt\n",
        "            string = string.replace(a, '00')\n",
        "\n",
        "    for s in string:\n",
        "        if s != '0':\n",
        "            cnt += 1\n",
        "\n",
        "    return cnt\n",
        "    \n",
        "### 출력\n",
        "for i in range(len(strings)):\n",
        "   print(\"================================\")\n",
        "   print(f'Start : {i+1}')\n",
        "   answer = solution(strings[i])\n",
        "   print(strings[i], answer)\n",
        "   print(\"================================\")"
      ],
      "execution_count": 5,
      "outputs": [
        {
          "output_type": "stream",
          "text": [
            "================================\n",
            "Start : 1\n",
            "ljes=njak 6\n",
            "================================\n",
            "================================\n",
            "Start : 2\n",
            "ddz=z= 3\n",
            "================================\n",
            "================================\n",
            "Start : 3\n",
            "nljj 3\n",
            "================================\n",
            "================================\n",
            "Start : 4\n",
            "c=c= 2\n",
            "================================\n"
          ],
          "name": "stdout"
        }
      ]
    },
    {
      "cell_type": "markdown",
      "metadata": {
        "id": "rJ6ED947rPMD"
      },
      "source": [
        "### 두 번째 방법\n",
        "크로아티아 알파벳에서 c=, c-, dz=, d-, lj, nj, s=, z=를 '0'이나 '-'로 치환해서 해당 문자열을 개수를 리턴해주면 해결이 된다!\n"
      ]
    },
    {
      "cell_type": "code",
      "metadata": {
        "colab": {
          "base_uri": "https://localhost:8080/"
        },
        "id": "PVut6tu0phEv",
        "outputId": "0e077c43-8e68-4268-8565-92f11aa905f4"
      },
      "source": [
        "### 입력값\n",
        "strings = ['ljes=njak', 'ddz=z=', 'nljj', 'c=c=']\n",
        "###\n",
        "\n",
        "### 문제\n",
        "def solution(string):\n",
        "\n",
        "    alpha = ['c=', 'c-', 'dz=', 'd-', 'lj', 'nj', 's=', 'z=']\n",
        "\n",
        "    for a in alpha:\n",
        "        \n",
        "        if string.count(a) > 0:\n",
        "            string = string.replace(a, '0')\n",
        "\n",
        "    return len(string)\n",
        "    \n",
        "### 출력\n",
        "for i in range(len(strings)):\n",
        "   print(\"================================\")\n",
        "   print(f'Start : {i+1}')\n",
        "   answer = solution(strings[i])\n",
        "   print(strings[i], answer)\n",
        "   print(\"================================\")"
      ],
      "execution_count": 6,
      "outputs": [
        {
          "output_type": "stream",
          "text": [
            "================================\n",
            "Start : 1\n",
            "ljes=njak 6\n",
            "================================\n",
            "================================\n",
            "Start : 2\n",
            "ddz=z= 3\n",
            "================================\n",
            "================================\n",
            "Start : 3\n",
            "nljj 3\n",
            "================================\n",
            "================================\n",
            "Start : 4\n",
            "c=c= 2\n",
            "================================\n"
          ],
          "name": "stdout"
        }
      ]
    },
    {
      "cell_type": "markdown",
      "metadata": {
        "id": "HqutJ_Gzrujf"
      },
      "source": [
        "### 세 번째 방법  - re.sub 활용\n",
        "위의 for문을 돌려서 해결하는 방법말고 re.sub() 안의 정규표현식 구문을 사용해서 (| ==  or) 연산으로 해당하는 문자가 존재한다면 !로 치환하고 len()으로 해당 문자열에 갯수를 리턴해서 해결하는 방법입니다."
      ]
    },
    {
      "cell_type": "code",
      "metadata": {
        "colab": {
          "base_uri": "https://localhost:8080/"
        },
        "id": "-8GVfXT9rqSn",
        "outputId": "7db5cce5-3e54-42c3-ba93-3da44ba4e28a"
      },
      "source": [
        "### 입력값\n",
        "strings = ['ljes=njak', 'ddz=z=', 'nljj', 'c=c=']\n",
        "###\n",
        "\n",
        "### 문제\n",
        "def solution(string):\n",
        "\n",
        "    import re\n",
        "\n",
        "    return len(re.sub('c=|c-|dz=|d-|lj|nj|s=|z=', '!', string))\n",
        "    \n",
        "### 출력\n",
        "for i in range(len(strings)):\n",
        "   print(\"================================\")\n",
        "   print(f'Start : {i+1}')\n",
        "   answer = solution(strings[i])\n",
        "   print(strings[i], answer)\n",
        "   print(\"================================\")"
      ],
      "execution_count": 7,
      "outputs": [
        {
          "output_type": "stream",
          "text": [
            "================================\n",
            "Start : 1\n",
            "ljes=njak 6\n",
            "================================\n",
            "================================\n",
            "Start : 2\n",
            "ddz=z= 3\n",
            "================================\n",
            "================================\n",
            "Start : 3\n",
            "nljj 3\n",
            "================================\n",
            "================================\n",
            "Start : 4\n",
            "c=c= 2\n",
            "================================\n"
          ],
          "name": "stdout"
        }
      ]
    }
  ]
}