{
  "nbformat": 4,
  "nbformat_minor": 0,
  "metadata": {
    "colab": {
      "name": "13_두 정수 사이의 합.ipynb",
      "provenance": [],
      "authorship_tag": "ABX9TyOBiHadXjHy9M4zzoYDMEJ3",
      "include_colab_link": true
    },
    "kernelspec": {
      "name": "python3",
      "display_name": "Python 3"
    },
    "language_info": {
      "name": "python"
    }
  },
  "cells": [
    {
      "cell_type": "markdown",
      "metadata": {
        "id": "view-in-github",
        "colab_type": "text"
      },
      "source": [
        "<a href=\"https://colab.research.google.com/github/jaedeokhan/start-coding-test-pratice/blob/main/backjoon/colab/sliver5/13_%EB%91%90_%EC%A0%95%EC%88%98_%EC%82%AC%EC%9D%B4%EC%9D%98_%ED%95%A9.ipynb\" target=\"_parent\"><img src=\"https://colab.research.google.com/assets/colab-badge.svg\" alt=\"Open In Colab\"/></a>"
      ]
    },
    {
      "cell_type": "markdown",
      "metadata": {
        "id": "cCc2fOrJuQPR"
      },
      "source": [
        "### 문제 : [두 정수 사이의 합](https://www.acmicpc.net/problem/2941)\n",
        "두 정수 a, b가 주어졌을 때 a와 b 사이에 속한 모든 정수의 합을 리턴하는 함수, solution을 완성하세요.\n",
        "예를 들어 a = 3, b = 5인 경우, 3 + 4 + 5 = 12이므로 12를 리턴합니다."
      ]
    },
    {
      "cell_type": "code",
      "metadata": {
        "colab": {
          "base_uri": "https://localhost:8080/"
        },
        "id": "V0eTDQuPuT9w",
        "outputId": "565ede08-a112-4444-9ddd-124a4b6f56d3"
      },
      "source": [
        "### 입력값\n",
        "a = [3,3,5]\n",
        "b = [5,3,3]\n",
        "###\n",
        "\n",
        "### 문제\n",
        "def solution(a, b):\n",
        "\n",
        "    if a > b : a,b = b,a\n",
        "\n",
        "    return sum(range(a,b+1))\n",
        "    \n",
        "### 출력\n",
        "for i in range(len(a)):\n",
        "   print(\"================================\")\n",
        "   print(f'Start : {i+1}')\n",
        "   answer = solution(a[i], b[i])\n",
        "   print(answer)\n",
        "   print(\"================================\")"
      ],
      "execution_count": null,
      "outputs": [
        {
          "output_type": "stream",
          "text": [
            "================================\n",
            "Start : 1\n",
            "12\n",
            "================================\n",
            "================================\n",
            "Start : 2\n",
            "3\n",
            "================================\n",
            "================================\n",
            "Start : 3\n",
            "12\n",
            "================================\n"
          ],
          "name": "stdout"
        }
      ]
    }
  ]
}