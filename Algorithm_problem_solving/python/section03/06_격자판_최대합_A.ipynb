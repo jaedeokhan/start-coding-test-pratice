{
  "nbformat": 4,
  "nbformat_minor": 0,
  "metadata": {
    "colab": {
      "name": "06_격자판_최대합_A.ipynb",
      "provenance": [],
      "collapsed_sections": [],
      "authorship_tag": "ABX9TyNKIO5WgxMaBYL+bbMCoOH6",
      "include_colab_link": true
    },
    "kernelspec": {
      "name": "python3",
      "display_name": "Python 3"
    },
    "language_info": {
      "name": "python"
    }
  },
  "cells": [
    {
      "cell_type": "markdown",
      "metadata": {
        "id": "view-in-github",
        "colab_type": "text"
      },
      "source": [
        "<a href=\"https://colab.research.google.com/github/jaedeokhan/start-coding-test-pratice/blob/main/python/Algorithm_problem_solving/section03/06_%EA%B2%A9%EC%9E%90%ED%8C%90_%EC%B5%9C%EB%8C%80%ED%95%A9_A.ipynb\" target=\"_parent\"><img src=\"https://colab.research.google.com/assets/colab-badge.svg\" alt=\"Open In Colab\"/></a>"
      ]
    },
    {
      "cell_type": "markdown",
      "metadata": {
        "id": "07zXnuXrO01p"
      },
      "source": [
        "## 문제 : [구현] p325 자물쇠와 열쇠"
      ]
    },
    {
      "cell_type": "code",
      "metadata": {
        "colab": {
          "base_uri": "https://localhost:8080/"
        },
        "id": "jwPQrakxPAfp",
        "outputId": "9079b557-8270-49e3-80f7-42ed24577a99"
      },
      "source": [
        "### 입력값\n",
        "n = [10, 5]\n",
        "matrix = [[[75, 79, 6, 72, 40, 72, 28, 43, 64, 19],\n",
        "          [97, 71, 12, 48, 64, 95, 64, 40, 38, 24],\n",
        "          [52, 17, 58, 64, 13, 37, 38, 5, 30, 36 ],\n",
        "          [43, 30, 15, 8, 13, 21, 81, 29, 79, 33 ],\n",
        "          [20, 4, 31, 24, 93, 60, 61, 19, 9, 88 ],\n",
        "          [12, 33, 30, 4, 38, 62, 98, 34, 65, 33],\n",
        "          [37, 26, 6, 60, 82, 57, 49, 85, 66, 67 ],\n",
        "          [93, 4, 29, 67, 65, 96, 5, 27, 39, 87 ],\n",
        "          [16, 52, 8, 7, 56, 19, 8, 53, 52, 93 ],\n",
        "          [87, 55, 58, 84, 61, 92, 3, 74, 66, 34 ]\n",
        "          ],\n",
        "          [[10,13,10,12,15],\n",
        "                           [12, 39, 30, 23, 11], \n",
        "                           [11,25,50,53,15], \n",
        "                           [19,27,29,37,27],\n",
        "                           [19,13,30,13,19] \n",
        "                         ]  \n",
        "          ]\n",
        " \n",
        "# 행의 값, 열의 값, largest \n",
        "# 가장 큰 값을 리턴하는 함수\n",
        "def isLargest(row, col, largest):\n",
        "    if row > largest:\n",
        "        largest = row\n",
        "    \n",
        "    if col > largest:\n",
        "        largest = col\n",
        "    \n",
        "    return largest\n",
        "   \n",
        "### 문제\n",
        "def solution(n, matrix):\n",
        "    \n",
        "    answer = 0\n",
        "    largest = -2147000000           \n",
        " \n",
        "    for i in range(n):\n",
        "        row_sum = col_sum = 0 \n",
        "        for j in range(n):\n",
        "            row_sum += matrix[i][j]\n",
        "            col_sum += matrix[j][i]\n",
        "            \n",
        "        largest = isLargest(row_sum, col_sum, largest)\n",
        "        \n",
        "    left_sum = right_sum = 0    \n",
        "    for i in range(n):\n",
        "        left_sum += matrix[i][i]\n",
        "        right_sum += matrix[i][n-i-1]\n",
        "    \n",
        "    largest = isLargest(left_sum, right_sum, largest)\n",
        "\n",
        "    return largest\n",
        " \n",
        "    \n",
        "### 출력\n",
        "for i in range(len(matrix)):\n",
        "   print(\"================================\")\n",
        "   print(f'Start : {i+1}')\n",
        "   answer = solution(n[i], matrix[i])\n",
        "   print(f'answer : {answer}')\n",
        "   print(\"================================\")"
      ],
      "execution_count": 12,
      "outputs": [
        {
          "output_type": "stream",
          "text": [
            "================================\n",
            "Start : 1\n",
            "498 532 532\n",
            "553 371 553\n",
            "350 253 553\n",
            "352 438 553\n",
            "409 525 553\n",
            "409 611 611\n",
            "535 435 611\n",
            "512 409 611\n",
            "364 508 611\n",
            "614 514 614\n",
            "answer : 614\n",
            "================================\n",
            "================================\n",
            "Start : 2\n",
            "60 71 71\n",
            "115 117 117\n",
            "154 149 154\n",
            "139 138 154\n",
            "94 87 154\n",
            "answer : 155\n",
            "================================\n"
          ],
          "name": "stdout"
        }
      ]
    }
  ]
}