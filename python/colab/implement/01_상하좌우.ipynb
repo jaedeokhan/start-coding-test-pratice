{
  "nbformat": 4,
  "nbformat_minor": 0,
  "metadata": {
    "colab": {
      "name": "01_상하좌우.ipynb",
      "provenance": [],
      "collapsed_sections": [],
      "authorship_tag": "ABX9TyN4NK30u1g4XOpHLClYz7uz",
      "include_colab_link": true
    },
    "kernelspec": {
      "name": "python3",
      "display_name": "Python 3"
    },
    "language_info": {
      "name": "python"
    }
  },
  "cells": [
    {
      "cell_type": "markdown",
      "metadata": {
        "id": "view-in-github",
        "colab_type": "text"
      },
      "source": [
        "<a href=\"https://colab.research.google.com/github/jaedeokhan/start-coding-test-pratice/blob/main/python/colab/implement/01_%EC%83%81%ED%95%98%EC%A2%8C%EC%9A%B0.ipynb\" target=\"_parent\"><img src=\"https://colab.research.google.com/assets/colab-badge.svg\" alt=\"Open In Colab\"/></a>"
      ]
    },
    {
      "cell_type": "markdown",
      "metadata": {
        "id": "xVo3hxGZIRpu"
      },
      "source": [
        "## 문제 : p110 상하좌우\n",
        "* 유형 : 시뮬레이션\n",
        "    * 일련의 명령에 따라서 개체를 차례대로 이동시킨다는 점에서 시뮬레이션 유형\n",
        "\n",
        "### 1. 쌩구현 방식...\n"
      ]
    },
    {
      "cell_type": "code",
      "metadata": {
        "colab": {
          "base_uri": "https://localhost:8080/"
        },
        "id": "pzXpqxolIkgb",
        "outputId": "b75b1081-aab3-4fee-f41e-bd0278fb6c40"
      },
      "source": [
        "### 입력값\n",
        "n = [5, 5, 5]\n",
        "moves = [['R', 'R', 'R', 'U', 'D', 'D'], \n",
        "         ['L', 'L', 'L', 'R', 'R', 'R'],\n",
        "         ['U', 'D', 'D', 'U', 'D', 'D']]\n",
        "###\n",
        "\n",
        "### 문제\n",
        "def solution(n, move):\n",
        "\n",
        "    answer = []\n",
        "    row = 1\n",
        "    col = 1\n",
        "    \n",
        "    for m in move:\n",
        "\n",
        "        if m == 'R':\n",
        "            if col + 1 == n + 1:\n",
        "                continue\n",
        "            col += 1\n",
        "        elif m == 'L':\n",
        "            if col - 1 == 0:\n",
        "                continue\n",
        "            col -= 1\n",
        "        elif m == 'D':\n",
        "            if row + 1 == n + 1:\n",
        "                continue            \n",
        "            row += 1\n",
        "        elif m == 'U':\n",
        "            if row - 1 == 0:\n",
        "                continue                  \n",
        "            row -= 1\n",
        "\n",
        "    answer.append(row)\n",
        "    answer.append(col)\n",
        "\n",
        "    return answer\n",
        "\n",
        "    \n",
        "### 출력\n",
        "for i in range(len(moves)):\n",
        "   print(\"================================\")\n",
        "   print(f'Start : {i+1}')\n",
        "   answer = solution(n[i], moves[i])\n",
        "   print(f'answer : {answer}')\n",
        "   print(\"================================\")"
      ],
      "execution_count": 25,
      "outputs": [
        {
          "output_type": "stream",
          "text": [
            "================================\n",
            "Start : 1\n",
            "answer : [3, 4]\n",
            "================================\n",
            "================================\n",
            "Start : 2\n",
            "answer : [1, 4]\n",
            "================================\n",
            "================================\n",
            "Start : 3\n",
            "answer : [4, 1]\n",
            "================================\n"
          ],
          "name": "stdout"
        }
      ]
    },
    {
      "cell_type": "markdown",
      "metadata": {
        "id": "3LiWJ55lUKxe"
      },
      "source": [
        "### 2. dx,dy 좌표를 이용하는 방식"
      ]
    },
    {
      "cell_type": "code",
      "metadata": {
        "colab": {
          "base_uri": "https://localhost:8080/"
        },
        "id": "XMZPgvnKO7QD",
        "outputId": "6f1995ff-41e9-4f15-c5ad-e8e1f3199aaa"
      },
      "source": [
        "### 입력값\n",
        "n = [5, 5, 5]\n",
        "moves = [['R', 'R', 'R', 'U', 'D', 'D'], \n",
        "         ['L', 'L', 'L', 'R', 'R', 'R'],\n",
        "         ['U', 'D', 'D', 'U', 'D', 'D']]\n",
        "###\n",
        "\n",
        "### 문제\n",
        "def solution(n, move):\n",
        "\n",
        "    answer = []\n",
        "    row, col = 1,1     # 현재 위치\n",
        "    dx = [0, 0, -1, 1] # L, R, U, D에 따른 이동 방향\n",
        "    dy = [-1, 1, 0, 0]\n",
        "    move_types = ['L', 'R', 'U', 'D']\n",
        "\n",
        "    for m in move: # 이동 계획을 하나씩 확인\n",
        "        for i in range(len(move_types)): # 이동 후 좌표 구하기\n",
        "            if m == move_types[i]:\n",
        "                nx = row + dx[i]\n",
        "                ny = col + dy[i]\n",
        "\n",
        "        if nx < 1 or ny < 1 or nx > n or ny > n: # 공간을 넘어가는 경우 무시\n",
        "            continue\n",
        "        \n",
        "        row, col = nx, ny # 이동 수행\n",
        "\n",
        "    answer.append(row)\n",
        "    answer.append(col)\n",
        "\n",
        "    return answer\n",
        "\n",
        "    \n",
        "### 출력\n",
        "for i in range(len(moves)):\n",
        "   print(\"================================\")\n",
        "   print(f'Start : {i+1}')\n",
        "   answer = solution(n[i], moves[i])\n",
        "   print(f'answer : {answer}')\n",
        "   print(\"================================\")"
      ],
      "execution_count": 23,
      "outputs": [
        {
          "output_type": "stream",
          "text": [
            "================================\n",
            "Start : 1\n",
            "answer : [3, 4]\n",
            "================================\n",
            "================================\n",
            "Start : 2\n",
            "answer : [1, 4]\n",
            "================================\n",
            "================================\n",
            "Start : 3\n",
            "answer : [4, 1]\n",
            "================================\n"
          ],
          "name": "stdout"
        }
      ]
    }
  ]
}