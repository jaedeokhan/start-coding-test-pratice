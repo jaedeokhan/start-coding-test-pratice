{
  "nbformat": 4,
  "nbformat_minor": 0,
  "metadata": {
    "colab": {
      "name": "02_시각.ipynb",
      "provenance": [],
      "collapsed_sections": [],
      "authorship_tag": "ABX9TyMo4C3TQMYFRF6IXTu+2aZ5",
      "include_colab_link": true
    },
    "kernelspec": {
      "name": "python3",
      "display_name": "Python 3"
    },
    "language_info": {
      "name": "python"
    }
  },
  "cells": [
    {
      "cell_type": "markdown",
      "metadata": {
        "id": "view-in-github",
        "colab_type": "text"
      },
      "source": [
        "<a href=\"https://colab.research.google.com/github/jaedeokhan/start-coding-test-pratice/blob/main/python/colab/implement/02_%EC%8B%9C%EA%B0%81.ipynb\" target=\"_parent\"><img src=\"https://colab.research.google.com/assets/colab-badge.svg\" alt=\"Open In Colab\"/></a>"
      ]
    },
    {
      "cell_type": "markdown",
      "metadata": {
        "id": "srw5gWQBwfd6"
      },
      "source": [
        "## 문제 : p113 시각\n"
      ]
    },
    {
      "cell_type": "code",
      "metadata": {
        "colab": {
          "base_uri": "https://localhost:8080/"
        },
        "id": "wHDw8TpewkaQ",
        "outputId": "79dfe9e6-2a3d-4cc0-ae05-eb3337062930"
      },
      "source": [
        "### 입력값\n",
        "hours = [5, 1, 2, 3, 4, 23]\n",
        "###\n",
        "\n",
        "### 문제\n",
        "def solution(hour):\n",
        "\n",
        "    answer = 0 \n",
        "\n",
        "    for h in range(hour + 1):\n",
        "        for min in range(60):\n",
        "            for sec in range(60):\n",
        "                if '3' in str(h) + str(min) + str(sec):\n",
        "                    answer += 1\n",
        "\n",
        "    return answer\n",
        "\n",
        "    \n",
        "### 출력\n",
        "for i in range(len(hours)):\n",
        "   print(\"================================\")\n",
        "   print(f'Start : {i+1}')\n",
        "   answer = solution(hours[i])\n",
        "   print(f'answer : {answer}')\n",
        "   print(\"================================\")"
      ],
      "execution_count": 14,
      "outputs": [
        {
          "output_type": "stream",
          "text": [
            "================================\n",
            "Start : 1\n",
            "answer : 11475\n",
            "================================\n",
            "================================\n",
            "Start : 2\n",
            "answer : 3150\n",
            "================================\n",
            "================================\n",
            "Start : 3\n",
            "answer : 4725\n",
            "================================\n",
            "================================\n",
            "Start : 4\n",
            "answer : 8325\n",
            "================================\n",
            "================================\n",
            "Start : 5\n",
            "answer : 9900\n",
            "================================\n",
            "================================\n",
            "Start : 6\n",
            "answer : 43875\n",
            "================================\n"
          ],
          "name": "stdout"
        }
      ]
    }
  ]
}