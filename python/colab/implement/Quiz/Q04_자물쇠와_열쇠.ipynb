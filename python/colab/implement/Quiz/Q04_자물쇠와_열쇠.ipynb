{
  "nbformat": 4,
  "nbformat_minor": 0,
  "metadata": {
    "colab": {
      "name": "Q04_자물쇠와 열쇠.ipynb",
      "provenance": [],
      "collapsed_sections": [],
      "authorship_tag": "ABX9TyMAJUmb3EwP2QKKKz0SD/2D",
      "include_colab_link": true
    },
    "kernelspec": {
      "name": "python3",
      "display_name": "Python 3"
    },
    "language_info": {
      "name": "python"
    }
  },
  "cells": [
    {
      "cell_type": "markdown",
      "metadata": {
        "id": "view-in-github",
        "colab_type": "text"
      },
      "source": [
        "<a href=\"https://colab.research.google.com/github/jaedeokhan/start-coding-test-pratice/blob/main/python/colab/implement/Quiz/Q04_%EC%9E%90%EB%AC%BC%EC%87%A0%EC%99%80_%EC%97%B4%EC%87%A0.ipynb\" target=\"_parent\"><img src=\"https://colab.research.google.com/assets/colab-badge.svg\" alt=\"Open In Colab\"/></a>"
      ]
    },
    {
      "cell_type": "markdown",
      "metadata": {
        "id": "07zXnuXrO01p"
      },
      "source": [
        "## 문제 : [구현] p325 자물쇠와 열쇠"
      ]
    },
    {
      "cell_type": "code",
      "metadata": {
        "colab": {
          "base_uri": "https://localhost:8080/"
        },
        "id": "jwPQrakxPAfp",
        "outputId": "6044df4e-6c6d-4908-8d0e-55ae148b51ce"
      },
      "source": [
        "### 입력값\n",
        "keys = [[[0,0,0], [1,0,0], [0,1,1]]]\n",
        "locks = [[[1,1,1], [1,1,0], [1,0,1]]]\n",
        "###\n",
        "\n",
        "# 2차원 리스트 90도 회전\n",
        "def rotate_matrix_by_90_degree(a):\n",
        "    n = len(a)     # 행\n",
        "    m = len(a[0])  # 열\n",
        "    result = [[0] * n for _ in range(m)]\n",
        "    for i in range(n):\n",
        "        for j in range(m):\n",
        "            result[j][n - i - 1] = a[i][j]\n",
        "    \n",
        "    return result\n",
        "\n",
        "# 자물쇠 중간 부분이 모두 1인지 확인\n",
        "def check(new_lock):\n",
        "    lock_length = len(new_lock) // 3\n",
        "    for i in range(lock_length, lock_length * 2):\n",
        "        for j in range(lock_length, lock_length * 2):\n",
        "            if new_lock[i][j] != 1:\n",
        "                return False     \n",
        "    return True\n",
        "\n",
        "def print_lock_key(new_lock):\n",
        "    for n_l in new_lock:\n",
        "        print(n_l)\n",
        "    print()\n",
        "\n",
        "### 문제\n",
        "def solution(key, lock):\n",
        "    \n",
        "    n = len(lock)\n",
        "    m = len(key)\n",
        "    # 자물쇠의 크기를 기존의 3배로 변환\n",
        "    new_lock = [ [0] * (n * 3) for _ in range(n * 3)]\n",
        "    # 새로운 자물쇠의 중앙 부분에 기존의 자물쇠 넣기\n",
        "    for i in range(n):\n",
        "        for j in range(n):\n",
        "            new_lock[i + n][j + n] = lock[i][j]\n",
        "\n",
        "    print_lock_key(new_lock) # 출력\n",
        "\n",
        "\n",
        "    # 4가지 방향에 대해서 확인\n",
        "    for rotation in range(4):\n",
        "        key = rotate_matrix_by_90_degree(key) # 열쇠 회전\n",
        "        for x in range(n * 2):\n",
        "            for y in range(n * 2):\n",
        "                # 자물쇠에 열쇠를 끼워 넣기\n",
        "                for i in range(m):\n",
        "                    for j in range(m):\n",
        "                        new_lock[x + i][y + j] += key[i][j]\n",
        "                # 새로운 자물쇠에 열쇠가 정확히 들어맞는지 검사\n",
        "                if check(new_lock) == True:\n",
        "                    print_lock_key(new_lock) # 자물쇠와 열쇠 맞는 경우 출력\n",
        "                    return True\n",
        "                for i in range(m):\n",
        "                    for j in range(m):\n",
        "                        new_lock[x + i][y + j] -= key[i][j]\n",
        "                        \n",
        "    return False\n",
        "\n",
        "    \n",
        "### 출력\n",
        "for i in range(len(keys)):\n",
        "   print(\"================================\")\n",
        "   print(f'Start : {i+1}')\n",
        "   answer = solution(keys[i], locks[i])\n",
        "   print(f'answer : {answer}')\n",
        "   print(\"================================\")"
      ],
      "execution_count": 21,
      "outputs": [
        {
          "output_type": "stream",
          "text": [
            "================================\n",
            "Start : 1\n",
            "[0, 0, 0, 0, 0, 0, 0, 0, 0]\n",
            "[0, 0, 0, 0, 0, 0, 0, 0, 0]\n",
            "[0, 0, 0, 0, 0, 0, 0, 0, 0]\n",
            "[0, 0, 0, 1, 1, 1, 0, 0, 0]\n",
            "[0, 0, 0, 1, 1, 0, 0, 0, 0]\n",
            "[0, 0, 0, 1, 0, 1, 0, 0, 0]\n",
            "[0, 0, 0, 0, 0, 0, 0, 0, 0]\n",
            "[0, 0, 0, 0, 0, 0, 0, 0, 0]\n",
            "[0, 0, 0, 0, 0, 0, 0, 0, 0]\n",
            "\n",
            "[0, 0, 0, 0, 0, 0, 0, 0, 0]\n",
            "[0, 0, 0, 0, 0, 0, 0, 0, 0]\n",
            "[0, 0, 0, 0, 0, 0, 0, 0, 0]\n",
            "[0, 0, 0, 1, 1, 1, 0, 0, 0]\n",
            "[0, 0, 0, 1, 1, 1, 0, 0, 0]\n",
            "[0, 0, 0, 1, 1, 1, 0, 0, 0]\n",
            "[0, 0, 0, 0, 1, 0, 0, 0, 0]\n",
            "[0, 0, 0, 0, 0, 0, 0, 0, 0]\n",
            "[0, 0, 0, 0, 0, 0, 0, 0, 0]\n",
            "\n",
            "answer : True\n",
            "================================\n"
          ],
          "name": "stdout"
        }
      ]
    }
  ]
}