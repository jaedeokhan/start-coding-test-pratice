{
  "nbformat": 4,
  "nbformat_minor": 0,
  "metadata": {
    "colab": {
      "name": "02_큰 수의 법칙.ipynb",
      "provenance": [],
      "collapsed_sections": [],
      "authorship_tag": "ABX9TyPhjnjlyHI5Me6YZQU+Ea8v",
      "include_colab_link": true
    },
    "kernelspec": {
      "name": "python3",
      "display_name": "Python 3"
    },
    "language_info": {
      "name": "python"
    }
  },
  "cells": [
    {
      "cell_type": "markdown",
      "metadata": {
        "id": "view-in-github",
        "colab_type": "text"
      },
      "source": [
        "<a href=\"https://colab.research.google.com/github/jaedeokhan/start-coding-test-pratice/blob/main/python/colab/Greedy/02_%ED%81%B0_%EC%88%98%EC%9D%98_%EB%B2%95%EC%B9%99.ipynb\" target=\"_parent\"><img src=\"https://colab.research.google.com/assets/colab-badge.svg\" alt=\"Open In Colab\"/></a>"
      ]
    },
    {
      "cell_type": "markdown",
      "metadata": {
        "id": "eCGszltLvsy9"
      },
      "source": [
        "### 문제 : 큰 수의 법칙\n"
      ]
    },
    {
      "cell_type": "code",
      "metadata": {
        "colab": {
          "base_uri": "https://localhost:8080/"
        },
        "id": "7Yk_bLO4vxSA",
        "outputId": "badc6218-3d3a-4535-ddc5-4ddb2ad64544"
      },
      "source": [
        "### 입력값\n",
        "nmk = [[5, 8, 3], [5, 7, 2]]\n",
        "n_list = [[2,4,5,4,6], [3,4,3,4,3]]\n",
        "###\n",
        "\n",
        "### 문제\n",
        "def solution(nmk, n_list):\n",
        "\n",
        "    answer = 0\n",
        "\n",
        "    n,m,k = nmk\n",
        "    n_list.sort()\n",
        "    first_big = n_list[-1]\n",
        "    second_big = n_list[-2]\n",
        "\n",
        "    while True:\n",
        "        \n",
        "        for i in range(k):\n",
        "            if m == 0:\n",
        "                break\n",
        "            answer += first_big\n",
        "            m -= 1\n",
        "\n",
        "        if m == 0:\n",
        "            break\n",
        "\n",
        "        answer += second_big\n",
        "        m -= 1\n",
        "\n",
        "    return answer\n",
        "\n",
        "    m\n",
        "for i in range(len(n_list)):\n",
        "   print(\"================================\")\n",
        "   print(f'Start : {i+1}')\n",
        "   answer = solution(nmk[i], n_list[i])\n",
        "   print(answer)\n",
        "   print(\"================================\")    "
      ],
      "execution_count": 12,
      "outputs": [
        {
          "output_type": "stream",
          "text": [
            "================================\n",
            "Start : 1\n",
            "46\n",
            "================================\n",
            "================================\n",
            "Start : 2\n",
            "28\n",
            "================================\n"
          ],
          "name": "stdout"
        }
      ]
    },
    {
      "cell_type": "code",
      "metadata": {
        "colab": {
          "base_uri": "https://localhost:8080/"
        },
        "id": "O2_7a6N9KP4R",
        "outputId": "689deae7-9baf-40bd-f8a6-ef6ab94a374f"
      },
      "source": [
        "### 입력값\n",
        "nmk = [[5, 8, 3], [5, 7, 2]]\n",
        "n_list = [[2,4,5,4,6], [3,4,3,4,3]]\n",
        "###\n",
        "\n",
        "### 문제\n",
        "def solution(nmk, n_list):\n",
        "\n",
        "    answer = 0\n",
        "    n,m,k = nmk\n",
        "\n",
        "    n_list.sort()\n",
        "    first_big = n_list[-1]\n",
        "    second_big = n_list[-2]\n",
        "\n",
        "    # 가장 큰 수 가 더해지는 횟수 연산\n",
        "    count = int(m / (k+1)) * k\n",
        "    count += m % (k + 1)\n",
        "\n",
        "    answer += (count) * first_big # 가장 큰 수 더하기\n",
        "    answer += (m - count) * second_big # 두 번째로 큰 수 더하기\n",
        " \n",
        "    return answer\n",
        "\n",
        "    \n",
        "### 출력\n",
        "for i in range(len(n_list)):\n",
        "   print(\"================================\")\n",
        "   print(f'Start : {i+1}')\n",
        "   answer = solution(nmk[i], n_list[i])\n",
        "   print(answer)\n",
        "   print(\"================================\")    "
      ],
      "execution_count": 14,
      "outputs": [
        {
          "output_type": "stream",
          "text": [
            "================================\n",
            "Start : 1\n",
            "46\n",
            "================================\n",
            "================================\n",
            "Start : 2\n",
            "28\n",
            "================================\n"
          ],
          "name": "stdout"
        }
      ]
    }
  ]
}