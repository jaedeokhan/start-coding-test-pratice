{
  "nbformat": 4,
  "nbformat_minor": 0,
  "metadata": {
    "colab": {
      "name": "Q04_만들 수 없는 금액ipynb",
      "provenance": [],
      "collapsed_sections": [],
      "authorship_tag": "ABX9TyNG1oYGUS0wXF6vSY6E6fMH",
      "include_colab_link": true
    },
    "kernelspec": {
      "name": "python3",
      "display_name": "Python 3"
    },
    "language_info": {
      "name": "python"
    }
  },
  "cells": [
    {
      "cell_type": "markdown",
      "metadata": {
        "id": "view-in-github",
        "colab_type": "text"
      },
      "source": [
        "<a href=\"https://colab.research.google.com/github/jaedeokhan/start-coding-test-pratice/blob/main/python/colab/Greedy/Q04_%EB%A7%8C%EB%93%A4_%EC%88%98_%EC%97%86%EB%8A%94_%EA%B8%88%EC%95%A1.ipynb\" target=\"_parent\"><img src=\"https://colab.research.google.com/assets/colab-badge.svg\" alt=\"Open In Colab\"/></a>"
      ]
    },
    {
      "cell_type": "markdown",
      "metadata": {
        "id": "g6zlk2k_6d27"
      },
      "source": [
        "## 문제 : Q04_만들 수 없는 금액\n",
        "\n",
        "\n"
      ]
    },
    {
      "cell_type": "markdown",
      "metadata": {
        "id": "CmE0AnFJWvH7"
      },
      "source": [
        "### 1. 첫 번째로 풀어본 방식 - 리스트 내포식 or combinations를 사용"
      ]
    },
    {
      "cell_type": "code",
      "metadata": {
        "colab": {
          "base_uri": "https://localhost:8080/"
        },
        "id": "E3q_s7zz6hHJ",
        "outputId": "0bbbf65d-5728-4f6a-8360-8196458699b9"
      },
      "source": [
        "### 입력값\n",
        "n = [5, 7, 3, 4]\n",
        "coins = [[3,2,1,1,9], [7,6,5,4,3,2,1], [3,1,2], [1,2,3,8]]\n",
        "###\n",
        " \n",
        "### 문제\n",
        "def solution(n, coin):\n",
        "    \n",
        "    from itertools import combinations\n",
        "    import time\n",
        "    start_time = time.time()\n",
        " \n",
        "    val_list = [i for i in range(1, sum(coin)+2)]\n",
        "    hap = [c for c in coin]\n",
        "    hap.append(sum(coin))\n",
        "    \n",
        "    for i in range(2, len(coin)):\n",
        "        combi = list(combinations(coin, i))    \n",
        "        for c in combi:\n",
        "            hap.append(sum(c))\n",
        "    \n",
        "    hap = list(set(hap))\n",
        " \n",
        "    for h in hap:\n",
        "        val_list.remove(h)\n",
        " \n",
        "    end_time = time.time()\n",
        "    print(f'time : {end_time - start_time}')\n",
        "    return min(val_list)\n",
        " \n",
        "    \n",
        "for i in range(len(coins)):\n",
        "   print(\"================================\")\n",
        "   print(f'Start : {i+1}')\n",
        "   answer = solution(n[i], coins[i])\n",
        "   print(f'answer : {answer}')\n",
        "   print(\"================================\")"
      ],
      "execution_count": 51,
      "outputs": [
        {
          "output_type": "stream",
          "text": [
            "================================\n",
            "Start : 1\n",
            "time : 4.482269287109375e-05\n",
            "answer : 8\n",
            "================================\n",
            "================================\n",
            "Start : 2\n",
            "time : 7.2479248046875e-05\n",
            "answer : 29\n",
            "================================\n",
            "================================\n",
            "Start : 3\n",
            "time : 1.5735626220703125e-05\n",
            "answer : 7\n",
            "================================\n",
            "================================\n",
            "Start : 4\n",
            "time : 1.9073486328125e-05\n",
            "answer : 7\n",
            "================================\n"
          ],
          "name": "stdout"
        }
      ]
    },
    {
      "cell_type": "markdown",
      "metadata": {
        "id": "1jG1U1mHYgeg"
      },
      "source": [
        "### 2. 풀이 \n",
        "* coin 배열을 sort()로 오름차순 정렬 후, 타켓보다 작으면 break하고, 아니면 target에 coin의 각각의 값을 더한다."
      ]
    },
    {
      "cell_type": "code",
      "metadata": {
        "colab": {
          "base_uri": "https://localhost:8080/"
        },
        "id": "TCvcLNfwIRs4",
        "outputId": "fe363e99-559a-4325-f59e-00f1df40b1e6"
      },
      "source": [
        "### 입력값\n",
        "n = [5, 7, 3, 4]\n",
        "coins = [[3,2,1,1,9], [7,6,5,4,3,2,1], [3,1,2], [1,2,3,8]]\n",
        "###\n",
        " \n",
        "### 문제\n",
        "def solution(n, coin):\n",
        "    import time\n",
        "    start_time = time.time()\n",
        " \n",
        "    coin.sort()\n",
        " \n",
        "    target = 1\n",
        "    for c in coin:\n",
        "        # 만들 수 없는 금액을 찾았을 때 반복 종료\n",
        "        if target < c:\n",
        "            break\n",
        "        target += c\n",
        " \n",
        "    end_time = time.time()\n",
        "    print(f'time : {end_time - start_time}')\n",
        "    return target\n",
        " \n",
        "    \n",
        "for i in range(len(coins)):\n",
        "   print(\"================================\")\n",
        "   print(f'Start : {i+1}')\n",
        "   answer = solution(n[i], coins[i])\n",
        "   print(f'answer : {answer}')\n",
        "   print(\"================================\")"
      ],
      "execution_count": 52,
      "outputs": [
        {
          "output_type": "stream",
          "text": [
            "================================\n",
            "Start : 1\n",
            "time : 4.0531158447265625e-06\n",
            "answer : 8\n",
            "================================\n",
            "================================\n",
            "Start : 2\n",
            "time : 3.337860107421875e-06\n",
            "answer : 29\n",
            "================================\n",
            "================================\n",
            "Start : 3\n",
            "time : 2.6226043701171875e-06\n",
            "answer : 7\n",
            "================================\n",
            "================================\n",
            "Start : 4\n",
            "time : 1.9073486328125e-06\n",
            "answer : 7\n",
            "================================\n"
          ],
          "name": "stdout"
        }
      ]
    }
  ]
}