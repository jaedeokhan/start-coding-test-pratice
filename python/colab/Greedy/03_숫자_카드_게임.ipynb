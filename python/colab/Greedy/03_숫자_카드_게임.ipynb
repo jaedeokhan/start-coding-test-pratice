{
  "nbformat": 4,
  "nbformat_minor": 0,
  "metadata": {
    "colab": {
      "name": "03_숫자 카드 게임.ipynb",
      "provenance": [],
      "collapsed_sections": [],
      "authorship_tag": "ABX9TyMHaIpVnyen6aXrkshpFc3A",
      "include_colab_link": true
    },
    "kernelspec": {
      "name": "python3",
      "display_name": "Python 3"
    },
    "language_info": {
      "name": "python"
    }
  },
  "cells": [
    {
      "cell_type": "markdown",
      "metadata": {
        "id": "view-in-github",
        "colab_type": "text"
      },
      "source": [
        "<a href=\"https://colab.research.google.com/github/jaedeokhan/start-coding-test-pratice/blob/main/python/colab/Greedy/03_%EC%88%AB%EC%9E%90_%EC%B9%B4%EB%93%9C_%EA%B2%8C%EC%9E%84.ipynb\" target=\"_parent\"><img src=\"https://colab.research.google.com/assets/colab-badge.svg\" alt=\"Open In Colab\"/></a>"
      ]
    },
    {
      "cell_type": "markdown",
      "metadata": {
        "id": "Nj923AY1PCeT"
      },
      "source": [
        "## 문제 : 숫자 카드 게임\n",
        "### 1. list를 이용해서 해결하기\n"
      ]
    },
    {
      "cell_type": "code",
      "metadata": {
        "colab": {
          "base_uri": "https://localhost:8080/"
        },
        "id": "-HScLpJePHA6",
        "outputId": "b996269e-b14c-4998-a9d1-87076c23bd96"
      },
      "source": [
        "### 입력값\n",
        "n = [3, 3, 2]\n",
        "m = [3, 3, 4]\n",
        "cards = [ \n",
        "         [[3,1,2], [4,1,4], [2,2,2]],\n",
        "         [[1,2,3], [4,5,6], [7,8,9]],\n",
        "         [[7,3,1,8], [3,3,3,4]]\n",
        "         ]\n",
        "###\n",
        "\n",
        "### 문제\n",
        "def solution(n,m,cards):\n",
        "\n",
        "    answer = []\n",
        "\n",
        "    for card in cards:\n",
        "        \n",
        "        answer.append(min(card))\n",
        "\n",
        "    return max(answer)\n",
        "\n",
        "    \n",
        "for i in range(len(cards)):\n",
        "   print(\"================================\")\n",
        "   print(f'Start : {i+1}')\n",
        "   answer = solution(n[i], m[i], cards[i])\n",
        "   print(answer)\n",
        "   print(\"================================\")    "
      ],
      "execution_count": 12,
      "outputs": [
        {
          "output_type": "stream",
          "text": [
            "================================\n",
            "Start : 1\n",
            "2\n",
            "================================\n",
            "================================\n",
            "Start : 2\n",
            "7\n",
            "================================\n",
            "================================\n",
            "Start : 3\n",
            "3\n",
            "================================\n"
          ],
          "name": "stdout"
        }
      ]
    },
    {
      "cell_type": "markdown",
      "metadata": {
        "id": "w5IYmqjD3Evi"
      },
      "source": [
        "### 2. min() 함수를 이용하는 답안 예시"
      ]
    },
    {
      "cell_type": "code",
      "metadata": {
        "colab": {
          "base_uri": "https://localhost:8080/"
        },
        "id": "KDauXgKR2inU",
        "outputId": "6db1198b-fae0-4701-aae0-b15c7ec9eabb"
      },
      "source": [
        "### 입력값\n",
        "n = [3, 3, 2]\n",
        "m = [3, 3, 4]\n",
        "cards = [ \n",
        "         [[3,1,2], [4,1,4], [2,2,2]],\n",
        "         [[1,2,3], [4,5,6], [7,8,9]],\n",
        "         [[7,3,1,8], [3,3,3,4]]\n",
        "         ]\n",
        "###\n",
        "\n",
        "### 문제\n",
        "def solution(n,m,cards):\n",
        "\n",
        "    answer = 0\n",
        "\n",
        "    for card in cards:\n",
        "        \n",
        "        # 현재 줄에서 '가장 작은 수' 찾기\n",
        "        min_value = min(card)\n",
        "        # '가장 작은 수'들 중에서 가장 큰 수 찾기\n",
        "        answer = max(answer, min_value)\n",
        "        \n",
        "    return answer\n",
        "\n",
        "for i in range(len(cards)):\n",
        "   print(\"================================\")\n",
        "   print(f'Start : {i+1}')\n",
        "   answer = solution(n[i], m[i], cards[i])\n",
        "   print(answer)\n",
        "   print(\"================================\")    "
      ],
      "execution_count": 13,
      "outputs": [
        {
          "output_type": "stream",
          "text": [
            "================================\n",
            "Start : 1\n",
            "2\n",
            "================================\n",
            "================================\n",
            "Start : 2\n",
            "7\n",
            "================================\n",
            "================================\n",
            "Start : 3\n",
            "3\n",
            "================================\n"
          ],
          "name": "stdout"
        }
      ]
    },
    {
      "cell_type": "markdown",
      "metadata": {
        "id": "IU1KzFzp3NyP"
      },
      "source": [
        "### 3. 2중 반복문 구조를 이용하는 방식"
      ]
    },
    {
      "cell_type": "code",
      "metadata": {
        "colab": {
          "base_uri": "https://localhost:8080/"
        },
        "id": "DZP4WdoA3OI3",
        "outputId": "c179c3a7-bf66-430b-f10e-b4c271d59bf7"
      },
      "source": [
        "### 입력값\n",
        "n = [3, 3, 2]\n",
        "m = [3, 3, 4]\n",
        "cards = [ \n",
        "         [[3,1,2], [4,1,4], [2,2,2]],\n",
        "         [[1,2,3], [4,5,6], [7,8,9]],\n",
        "         [[7,3,1,8], [3,3,3,4]]\n",
        "         ]\n",
        "###\n",
        "\n",
        "### 문제\n",
        "def solution(n,m,cards):\n",
        "\n",
        "    answer = 0\n",
        "\n",
        "    for i in range(n):\n",
        "        min_value = 10001\n",
        "        for j in cards[i]:\n",
        "            min_value = min(j, min_value)\n",
        "        \n",
        "        answer = max(answer, min_value)\n",
        "    \n",
        "    return answer\n",
        "\n",
        "for i in range(len(cards)):\n",
        "   print(\"================================\")\n",
        "   print(f'Start : {i+1}')\n",
        "   answer = solution(n[i], m[i], cards[i])\n",
        "   print(answer)\n",
        "   print(\"================================\")    "
      ],
      "execution_count": 14,
      "outputs": [
        {
          "output_type": "stream",
          "text": [
            "================================\n",
            "Start : 1\n",
            "2\n",
            "================================\n",
            "================================\n",
            "Start : 2\n",
            "7\n",
            "================================\n",
            "================================\n",
            "Start : 3\n",
            "3\n",
            "================================\n"
          ],
          "name": "stdout"
        }
      ]
    }
  ]
}