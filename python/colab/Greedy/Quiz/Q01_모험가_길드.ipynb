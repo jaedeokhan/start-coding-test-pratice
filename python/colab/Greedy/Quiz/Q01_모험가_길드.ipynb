{
  "nbformat": 4,
  "nbformat_minor": 0,
  "metadata": {
    "colab": {
      "name": "Q01_모험가 길드.ipynb",
      "provenance": [],
      "collapsed_sections": [],
      "authorship_tag": "ABX9TyNWKOEeqMh7izsh0seqFKYP",
      "include_colab_link": true
    },
    "kernelspec": {
      "name": "python3",
      "display_name": "Python 3"
    },
    "language_info": {
      "name": "python"
    }
  },
  "cells": [
    {
      "cell_type": "markdown",
      "metadata": {
        "id": "view-in-github",
        "colab_type": "text"
      },
      "source": [
        "<a href=\"https://colab.research.google.com/github/jaedeokhan/start-coding-test-pratice/blob/main/python/colab/Greedy/Quiz/Q01_%EB%AA%A8%ED%97%98%EA%B0%80_%EA%B8%B8%EB%93%9C.ipynb\" target=\"_parent\"><img src=\"https://colab.research.google.com/assets/colab-badge.svg\" alt=\"Open In Colab\"/></a>"
      ]
    },
    {
      "cell_type": "markdown",
      "metadata": {
        "id": "TNCminha15HW"
      },
      "source": [
        "## 문제 : Q01_모험가 길드\n"
      ]
    },
    {
      "cell_type": "code",
      "metadata": {
        "colab": {
          "base_uri": "https://localhost:8080/"
        },
        "id": "DVfTejj-23Mr",
        "outputId": "5de52aaa-abdd-4468-d03b-ce0b31f20511"
      },
      "source": [
        "### 입력값\n",
        "n = [5, 5]\n",
        "horror = [[2,3,1,2,2], [1,4,2,1,3]] \n",
        "###\n",
        "\n",
        "### 문제\n",
        "def solution(n, horror):\n",
        "\n",
        "    answer = 0 # 현재 그룹의 수\n",
        "    count = 0 # 현재 그룹의 모험가 수\n",
        "    horror.sort()\n",
        "\n",
        "    for h in horror:    # 공포도를 낮은 것부터 하나씩 확인하며\n",
        "        count += 1      # 현재 그룹의 해당 모험가를 포함\n",
        "        if count >= h:  # 현재 그룹의 모험가의 수가 현재의 공포도 이상이라면, 그룹 결성\n",
        "            answer += 1 # 그룹 결성\n",
        "            count = 0   # 현재 그룹의 모험가의 수는 초기화\n",
        "            \n",
        "    return answer\n",
        "\n",
        "    \n",
        "for i in range(len(horror)):\n",
        "   print(\"================================\")\n",
        "   print(f'Start : {i+1}')\n",
        "   answer = solution(n[i], horror[i])\n",
        "   print(answer)\n",
        "   print(\"================================\")    "
      ],
      "execution_count": 7,
      "outputs": [
        {
          "output_type": "stream",
          "text": [
            "================================\n",
            "Start : 1\n",
            "2\n",
            "================================\n",
            "================================\n",
            "Start : 2\n",
            "2\n",
            "================================\n"
          ],
          "name": "stdout"
        }
      ]
    }
  ]
}