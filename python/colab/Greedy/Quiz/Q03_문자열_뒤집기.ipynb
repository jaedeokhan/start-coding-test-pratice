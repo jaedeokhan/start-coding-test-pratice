{
  "nbformat": 4,
  "nbformat_minor": 0,
  "metadata": {
    "colab": {
      "name": "Q03_문자열 뒤집기.ipynb",
      "provenance": [],
      "collapsed_sections": [],
      "authorship_tag": "ABX9TyPmDLbGx2ZWAs68Y1ebl6z6",
      "include_colab_link": true
    },
    "kernelspec": {
      "name": "python3",
      "display_name": "Python 3"
    },
    "language_info": {
      "name": "python"
    }
  },
  "cells": [
    {
      "cell_type": "markdown",
      "metadata": {
        "id": "view-in-github",
        "colab_type": "text"
      },
      "source": [
        "<a href=\"https://colab.research.google.com/github/jaedeokhan/start-coding-test-pratice/blob/main/python/colab/Greedy/Quiz/Q03_%EB%AC%B8%EC%9E%90%EC%97%B4_%EB%92%A4%EC%A7%91%EA%B8%B0.ipynb\" target=\"_parent\"><img src=\"https://colab.research.google.com/assets/colab-badge.svg\" alt=\"Open In Colab\"/></a>"
      ]
    },
    {
      "cell_type": "markdown",
      "metadata": {
        "id": "pGXPOCG3G6Ke"
      },
      "source": [
        "## 문제 : Q03_문자열 뒤집기\n"
      ]
    },
    {
      "cell_type": "code",
      "metadata": {
        "colab": {
          "base_uri": "https://localhost:8080/"
        },
        "id": "PLV4nv9MG_AT",
        "outputId": "bf7a6bfb-fad2-4691-bef8-66e7e3942e4a"
      },
      "source": [
        "### 입력값\n",
        "strings = ['0001100', '110011', '01010101', '111111', '0000000']\n",
        "###\n",
        "\n",
        "### 문제\n",
        "def solution(string):\n",
        "\n",
        "    count0 = 0 # 전부 0으로 바꾸는 경우 \n",
        "    count1 = 0 # 전부 1로 바꾸는 경우\n",
        "\n",
        "    # 첫 번째 원소에 대해서 처리\n",
        "    if string[0] == '1':\n",
        "        count0 += 1\n",
        "    else:\n",
        "        count1 += 1\n",
        "    \n",
        "    # 두 번째 원소부터 모든 원소를 확인하며\n",
        "    for i in range(len(string) - 1): # len('0001100') - 1 => 7 - 1 => 6 \n",
        "        if string[i] != string[i + 1]:\n",
        "            # 다음 수에서 1로 바뀌는 경우\n",
        "            if string[i + 1] == '1':\n",
        "                count0 += 1\n",
        "            else:\n",
        "                count1 += 1\n",
        "\n",
        "    print(f'count0 : {count0}, count1 : {count1}')\n",
        "    return min(count0, count1)\n",
        "\n",
        "    \n",
        "for i in range(len(strings)):\n",
        "   print(\"================================\")\n",
        "   print(f'Start : {i+1}')\n",
        "   answer = solution(strings[i])\n",
        "   print(f'answer : {answer}')\n",
        "   print(\"================================\")    "
      ],
      "execution_count": 13,
      "outputs": [
        {
          "output_type": "stream",
          "text": [
            "================================\n",
            "Start : 1\n",
            "count0 : 1, count1 : 2\n",
            "answer : 1\n",
            "================================\n",
            "================================\n",
            "Start : 2\n",
            "count0 : 2, count1 : 1\n",
            "answer : 1\n",
            "================================\n",
            "================================\n",
            "Start : 3\n",
            "count0 : 4, count1 : 4\n",
            "answer : 4\n",
            "================================\n",
            "================================\n",
            "Start : 4\n",
            "count0 : 1, count1 : 0\n",
            "answer : 0\n",
            "================================\n",
            "================================\n",
            "Start : 5\n",
            "count0 : 0, count1 : 1\n",
            "answer : 0\n",
            "================================\n"
          ],
          "name": "stdout"
        }
      ]
    }
  ]
}