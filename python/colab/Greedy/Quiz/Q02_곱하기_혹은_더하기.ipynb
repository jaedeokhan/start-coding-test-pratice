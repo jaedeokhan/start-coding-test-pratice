{
  "nbformat": 4,
  "nbformat_minor": 0,
  "metadata": {
    "colab": {
      "name": "Q02_곱하기 혹은 더하기.ipynb",
      "provenance": [],
      "collapsed_sections": [],
      "authorship_tag": "ABX9TyPeb0wvyH9xvfjwz9ERGF8Y",
      "include_colab_link": true
    },
    "kernelspec": {
      "name": "python3",
      "display_name": "Python 3"
    },
    "language_info": {
      "name": "python"
    }
  },
  "cells": [
    {
      "cell_type": "markdown",
      "metadata": {
        "id": "view-in-github",
        "colab_type": "text"
      },
      "source": [
        "<a href=\"https://colab.research.google.com/github/jaedeokhan/start-coding-test-pratice/blob/main/python/colab/Greedy/Quiz/Q02_%EA%B3%B1%ED%95%98%EA%B8%B0_%ED%98%B9%EC%9D%80_%EB%8D%94%ED%95%98%EA%B8%B0.ipynb\" target=\"_parent\"><img src=\"https://colab.research.google.com/assets/colab-badge.svg\" alt=\"Open In Colab\"/></a>"
      ]
    },
    {
      "cell_type": "markdown",
      "metadata": {
        "id": "OKOckqXcMIgY"
      },
      "source": [
        "## 문제 : Q02_곱하기 혹은 더하기\n",
        "\n",
        "### 1. 0,1 두 개를 더하기로 빼주는 처리를 해야하지만, 0만 처리해서 실패!"
      ]
    },
    {
      "cell_type": "code",
      "metadata": {
        "colab": {
          "base_uri": "https://localhost:8080/"
        },
        "id": "72p4zD7H6_m9",
        "outputId": "410cb466-4648-4e69-b20e-ba5559d4b969"
      },
      "source": [
        "### 입력값\n",
        "strings = ['02984', '567', '1133']\n",
        "###\n",
        "\n",
        "### 문제\n",
        "def solution(string):\n",
        "\n",
        "    answer = 0\n",
        "\n",
        "    # 0만 예외처리를 해주는 방식을 선택했지만, 1도 처리해줘야 해서 논리적 허점이 있다.\n",
        "    string = string.replace(\"0\", \"\")\n",
        "\n",
        "    for i in range(len(string) - 1):\n",
        "        \n",
        "        if i == 0:\n",
        "            answer = int(string[i]) * int(string[i+1])\n",
        "            continue\n",
        "        \n",
        "        answer *= int(string[i+1])\n",
        "\n",
        "    return answer\n",
        "\n",
        "    \n",
        "for i in range(len(strings)):\n",
        "   print(\"================================\")\n",
        "   print(f'Start : {i+1}')\n",
        "   answer = solution(strings[i])\n",
        "   if i == 2:\n",
        "       print('strings[2] : 1133 => 해당 문제 풀이 방법에서는 1x1x3x3 연산을 통해 9가 나온다.')\n",
        "       print('그렇지만, 0과 1은 +연산을 해주면 1+1x3x3 연산을 통해 18이 나와야 해서 오답이 존재한다.')\n",
        "   print(answer)\n",
        "   print(\"================================\")    "
      ],
      "execution_count": 13,
      "outputs": [
        {
          "output_type": "stream",
          "text": [
            "================================\n",
            "Start : 1\n",
            "576\n",
            "================================\n",
            "================================\n",
            "Start : 2\n",
            "210\n",
            "================================\n",
            "================================\n",
            "Start : 3\n",
            "strings[2] : 1133 => 해당 문제 풀이 방법에서는 1x1x3x3 연산을 통해 9가 나온다.\n",
            "그렇지만, 0과 1은 +연산을 해주면 1+1x3x3 연산을 통해 18이 나와야 해서 오답이 존재한다.\n",
            "9\n",
            "================================\n"
          ],
          "name": "stdout"
        }
      ]
    },
    {
      "cell_type": "markdown",
      "metadata": {
        "id": "bYbtwuggMceJ"
      },
      "source": [
        "### 2. 0,1이 나오는 경우는 + 연산, 나머지의 값은 * 연산을 해주는 방법으로 해결"
      ]
    },
    {
      "cell_type": "code",
      "metadata": {
        "colab": {
          "base_uri": "https://localhost:8080/"
        },
        "id": "FzzecUK7GQNX",
        "outputId": "9c238acf-fe17-4617-b57c-0641d081c0d8"
      },
      "source": [
        "### 입력값\n",
        "strings = ['02984', '567', '1133']\n",
        "###\n",
        "\n",
        "### 문제\n",
        "def solution(string):\n",
        "\n",
        "    answer = int(string[0]) # string의 첫 번째 문자를 int로 변환\n",
        "\n",
        "    for i in range(1, len(string)):  # string의 첫 번째 값을 가지고 있는 answer와 다음값을 비교하기 위해서 range를 1부터 len(string)까지 반복한다.\n",
        "        \n",
        "        num  = int(string[i]) # 1부터 len(string)까지의 인덱스로 string 문자열에 접근해서 num에 값을 할당한다.\n",
        "\n",
        "        if answer <= 1 or num <= 1: # 두 숫자 중에 하나라도 1이라하면 즉 0,1이면!!\n",
        "            answer += num\n",
        "        else:\n",
        "            answer *= num\n",
        "\n",
        "    return answer\n",
        "\n",
        "### 결과 출력\n",
        "for i in range(len(strings)):\n",
        "   print(\"================================\")\n",
        "   print(f'Start : {i+1}')\n",
        "   answer = solution(strings[i])\n",
        "   print(answer)\n",
        "   print(\"================================\")    "
      ],
      "execution_count": 15,
      "outputs": [
        {
          "output_type": "stream",
          "text": [
            "================================\n",
            "Start : 1\n",
            "576\n",
            "================================\n",
            "================================\n",
            "Start : 2\n",
            "210\n",
            "================================\n",
            "================================\n",
            "Start : 3\n",
            "18\n",
            "================================\n"
          ],
          "name": "stdout"
        }
      ]
    }
  ]
}