{
  "nbformat": 4,
  "nbformat_minor": 0,
  "metadata": {
    "colab": {
      "name": "00_최대공약수_최소공배수_N개의 최소공배수.ipynb",
      "provenance": [],
      "authorship_tag": "ABX9TyN0k7eBvQSsESjPEKYQ4VtT",
      "include_colab_link": true
    },
    "kernelspec": {
      "name": "python3",
      "display_name": "Python 3"
    },
    "language_info": {
      "name": "python"
    }
  },
  "cells": [
    {
      "cell_type": "markdown",
      "metadata": {
        "id": "view-in-github",
        "colab_type": "text"
      },
      "source": [
        "<a href=\"https://colab.research.google.com/github/jaedeokhan/start-coding-test-pratice/blob/main/algorithm_programming_tutorial/00_%EC%B5%9C%EB%8C%80%EA%B3%B5%EC%95%BD%EC%88%98_%EC%B5%9C%EC%86%8C%EA%B3%B5%EB%B0%B0%EC%88%98_N%EA%B0%9C%EC%9D%98_%EC%B5%9C%EC%86%8C%EA%B3%B5%EB%B0%B0%EC%88%98.ipynb\" target=\"_parent\"><img src=\"https://colab.research.google.com/assets/colab-badge.svg\" alt=\"Open In Colab\"/></a>"
      ]
    },
    {
      "cell_type": "markdown",
      "metadata": {
        "id": "BGeFygqb-P1b"
      },
      "source": [
        "\n",
        "## 최대공약수\n",
        "\n",
        "### 1-1. 두 수의 최대공약수 일반 구현"
      ]
    },
    {
      "cell_type": "markdown",
      "metadata": {
        "id": "eqzOCsEZ8VEW"
      },
      "source": [
        "### 최대공약수, 최소공배수, N개의 최소공배수\n",
        "* 최대공약수(Greatest Common Divisor)\n",
        "* 최소공약수(Least Common Divisor)"
      ]
    },
    {
      "cell_type": "code",
      "metadata": {
        "colab": {
          "base_uri": "https://localhost:8080/"
        },
        "id": "pJTokFUO8c21",
        "outputId": "02b3af2f-f0b6-4ad6-9456-f77ab378a3b3"
      },
      "source": [
        "num1 = 12\n",
        "num2 = 16\n",
        " \n",
        "for i in range(num1+1, 1, -1):\n",
        "    if num1 % i == 0 and num2 % i == 0:\n",
        "        print(i)\n",
        "        break"
      ],
      "execution_count": null,
      "outputs": [
        {
          "output_type": "stream",
          "text": [
            "4\n"
          ],
          "name": "stdout"
        }
      ]
    },
    {
      "cell_type": "markdown",
      "metadata": {
        "id": "NV8rOVrD-rvP"
      },
      "source": [
        "### 1-2. 함수로 최대공약수 구하는 방법"
      ]
    },
    {
      "cell_type": "code",
      "metadata": {
        "colab": {
          "base_uri": "https://localhost:8080/"
        },
        "id": "xjTWeRof-POe",
        "outputId": "cbc8ac95-8ddc-4a37-9726-941c6fe709cc"
      },
      "source": [
        "def GCD(x, y):\n",
        "    if x > y:\n",
        "        min = y \n",
        "    else:\n",
        "        min = x\n",
        "    \n",
        "    for i in range(min+1, 1, -1):\n",
        "        if x % i == 0 and y % i == 0:\n",
        "            res = i\n",
        "            break\n",
        "    return res\n",
        " \n",
        "print(GCD(12, 16))"
      ],
      "execution_count": null,
      "outputs": [
        {
          "output_type": "stream",
          "text": [
            "4\n"
          ],
          "name": "stdout"
        }
      ]
    },
    {
      "cell_type": "markdown",
      "metadata": {
        "id": "zDLFI_QB_lHn"
      },
      "source": [
        "### 1-3. 유클리드 호제법을 사용한 최대공약수\n",
        "* 호제법이란 두 수가 서로 상대방 수를 나누어서 결국 원하는 수를 얻어내는 알고리즘이다."
      ]
    },
    {
      "cell_type": "code",
      "metadata": {
        "colab": {
          "base_uri": "https://localhost:8080/"
        },
        "id": "Ci_Fmao-_qaU",
        "outputId": "8c7c0659-f44f-41b1-bae9-4154311635e6"
      },
      "source": [
        "def GCD_UC(x, y):\n",
        "    while(y):\n",
        "        x, y = y, x % y\n",
        "    return x\n",
        " \n",
        "print(GCD_UC(12, 16))"
      ],
      "execution_count": null,
      "outputs": [
        {
          "output_type": "stream",
          "text": [
            "4\n"
          ],
          "name": "stdout"
        }
      ]
    },
    {
      "cell_type": "markdown",
      "metadata": {
        "id": "m7jTom6ABT1A"
      },
      "source": [
        "## 최소공배수\n",
        "### 1-1. 일반적인 최소 공배수 구하는 방법"
      ]
    },
    {
      "cell_type": "code",
      "metadata": {
        "colab": {
          "base_uri": "https://localhost:8080/"
        },
        "id": "asGIkL65CL2W",
        "outputId": "c4c160b5-a41c-487b-84eb-d01371efea7d"
      },
      "source": [
        "num1 = 16\n",
        "num2 = 20\n",
        "\n",
        "for i in range(num2, (num1 * num2)+1):\n",
        "    if i % num1 == 0 and i % num2 == 0:\n",
        "        print(i)\n",
        "        break"
      ],
      "execution_count": null,
      "outputs": [
        {
          "output_type": "stream",
          "text": [
            "80\n"
          ],
          "name": "stdout"
        }
      ]
    },
    {
      "cell_type": "markdown",
      "metadata": {
        "id": "jFQM7CqYCnwh"
      },
      "source": [
        "### 1-2. while문을 사용한 최소공배수"
      ]
    },
    {
      "cell_type": "code",
      "metadata": {
        "colab": {
          "base_uri": "https://localhost:8080/"
        },
        "id": "N-hnOvwiC3jh",
        "outputId": "7322f3cd-d836-45b6-cf7e-e79d698d31cc"
      },
      "source": [
        "\n",
        "num1 = 16\n",
        "num2 = 20\n",
        "\n",
        "largest = num2\n",
        "\n",
        "while True:\n",
        "    if largest % num1 == 0 and largest % num2 == 0:\n",
        "        print(largest)\n",
        "        break\n",
        "    largest += 1"
      ],
      "execution_count": null,
      "outputs": [
        {
          "output_type": "stream",
          "text": [
            "80\n"
          ],
          "name": "stdout"
        }
      ]
    },
    {
      "cell_type": "markdown",
      "metadata": {
        "id": "t4KfddYcDgtP"
      },
      "source": [
        "### 1-3. 함수로 최소공배수 구현하기"
      ]
    },
    {
      "cell_type": "code",
      "metadata": {
        "colab": {
          "base_uri": "https://localhost:8080/"
        },
        "id": "pN8IZzHVBYdR",
        "outputId": "aa6d47a3-c0cb-4375-a7d9-1c580531d26e"
      },
      "source": [
        " \n",
        "def LCD(x, y):\n",
        "    if x > y:\n",
        "        max = x \n",
        "    else:\n",
        "        max = y\n",
        "    \n",
        "    for i in range(max, (x*y)+1):\n",
        "        if i % x == 0 and i % y == 0:\n",
        "            res = i\n",
        "            break\n",
        "    return res\n",
        " \n",
        "num1 = 16\n",
        "num2 = 20\n",
        " \n",
        "print((num1 * num2) // GCD(num1, num2))"
      ],
      "execution_count": null,
      "outputs": [
        {
          "output_type": "stream",
          "text": [
            "80\n"
          ],
          "name": "stdout"
        }
      ]
    },
    {
      "cell_type": "markdown",
      "metadata": {
        "id": "UL8crjowEMCq"
      },
      "source": [
        "### 2. 유클리드 호제법을 이용한 최대공약수와 최소공배수 구하는 방법"
      ]
    },
    {
      "cell_type": "code",
      "metadata": {
        "colab": {
          "base_uri": "https://localhost:8080/"
        },
        "id": "oqkqG5r9EgW3",
        "outputId": "fe92c771-b6a0-45a6-aeb9-02da0b019ee6"
      },
      "source": [
        "def GCD_UC(x, y):\n",
        "     while y:\n",
        "         x, y = y, x % y\n",
        "     return x\n",
        " \n",
        "def LCD_UC(x, y):\n",
        "     return (x * y) // GCD_UC(x, y)\n",
        " \n",
        "print(LCD_UC(16, 20))"
      ],
      "execution_count": null,
      "outputs": [
        {
          "output_type": "stream",
          "text": [
            "80\n"
          ],
          "name": "stdout"
        }
      ]
    }
  ]
}