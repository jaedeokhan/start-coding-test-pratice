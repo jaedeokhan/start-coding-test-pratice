{
  "nbformat": 4,
  "nbformat_minor": 0,
  "metadata": {
    "colab": {
      "name": "03_오픈채팅방.ipynb",
      "provenance": [],
      "collapsed_sections": [],
      "authorship_tag": "ABX9TyMcPTbgY6VScwUHytXKX6VP",
      "include_colab_link": true
    },
    "kernelspec": {
      "name": "python3",
      "display_name": "Python 3"
    },
    "language_info": {
      "name": "python"
    }
  },
  "cells": [
    {
      "cell_type": "markdown",
      "metadata": {
        "id": "view-in-github",
        "colab_type": "text"
      },
      "source": [
        "<a href=\"https://colab.research.google.com/github/jaedeokhan/start-coding-test-pratice/blob/main/programmers/level02/03_%EC%98%A4%ED%94%88%EC%B1%84%ED%8C%85%EB%B0%A9.ipynb\" target=\"_parent\"><img src=\"https://colab.research.google.com/assets/colab-badge.svg\" alt=\"Open In Colab\"/></a>"
      ]
    },
    {
      "cell_type": "markdown",
      "metadata": {
        "id": "FN5MDS4useI7"
      },
      "source": [
        "### 문제 : [오픈채팅방](https://programmers.co.kr/learn/courses/30/lessons/42888)\n",
        "채팅방에 들어오고 나가거나, 닉네임을 변경한 기록이 담긴 문자열 배열 record가 매개변수로 주어질 때, 모든 기록이 처리된 후, 최종적으로 방을 개설한 사람이 보게 되는 메시지를 문자열 배열 형태로 return 하도록 solution 함수를 완성하라."
      ]
    },
    {
      "cell_type": "code",
      "metadata": {
        "colab": {
          "base_uri": "https://localhost:8080/"
        },
        "id": "nZypKrFSsidP",
        "outputId": "69e73364-2d6a-4c30-fb1e-6ab0670e8949"
      },
      "source": [
        " ### 입력값\n",
        "records = [\n",
        "           [\"Enter uid1234 Muzi\", \"Enter uid4567 Prodo\",\"Leave uid1234\",\"Enter uid1234 Prodo\",\"Change uid4567 Ryan\"]\n",
        "          ]\n",
        "\n",
        "### 문제\n",
        "def solution(record):\n",
        "\n",
        "    answer = []\n",
        "    output = []  # id + \"~들어왔다 OR ~나갔다 추가 변수\"\n",
        "    id_name = {} # key : id , value : name\n",
        "\n",
        "    for r in record:\n",
        "        command = r.split(\" \") # c[0] : 입장/퇴장/변경, c[1] : id, c[2] : name \n",
        "        \n",
        "        if command[0] == 'Enter':\n",
        "            id_name[command[1]] = command[2]\n",
        "            output.append([command[1], \"님이 들어왔습니다.\"])\n",
        "        elif command[0] == 'Leave':\n",
        "            output.append([command[1], \"님이 나갔습니다.\"])\n",
        "        elif command[0] == 'Change':\n",
        "            id_name[command[1]] = command[2]\n",
        "\n",
        "    for log in output:\n",
        "        answer.append(id_name[log[0]] + log[1])\n",
        "    \n",
        "    return answer\n",
        " \n",
        "    \n",
        "### 출력\n",
        "for i in range(len(records)):\n",
        "   print(\"================================\")\n",
        "   print(f'Start : {i+1}')\n",
        "   answer = solution(records[i])\n",
        "   print(f'answer : {answer}')\n",
        "   print(\"================================\")"
      ],
      "execution_count": 7,
      "outputs": [
        {
          "output_type": "stream",
          "text": [
            "================================\n",
            "Start : 1\n",
            "answer : ['Prodo님이 들어왔습니다.', 'Ryan님이 들어왔습니다.', 'Prodo님이 나갔습니다.', 'Prodo님이 들어왔습니다.']\n",
            "================================\n"
          ],
          "name": "stdout"
        }
      ]
    }
  ]
}