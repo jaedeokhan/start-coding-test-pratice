{
  "nbformat": 4,
  "nbformat_minor": 0,
  "metadata": {
    "colab": {
      "name": "02_기능개발.ipynb",
      "provenance": [],
      "collapsed_sections": [],
      "authorship_tag": "ABX9TyOiImtgqB/TOKNxe5k8SkwO",
      "include_colab_link": true
    },
    "kernelspec": {
      "name": "python3",
      "display_name": "Python 3"
    },
    "language_info": {
      "name": "python"
    }
  },
  "cells": [
    {
      "cell_type": "markdown",
      "metadata": {
        "id": "view-in-github",
        "colab_type": "text"
      },
      "source": [
        "<a href=\"https://colab.research.google.com/github/jaedeokhan/start-coding-test-pratice/blob/main/programmers/level02/02_%EA%B8%B0%EB%8A%A5%EA%B0%9C%EB%B0%9C.ipynb\" target=\"_parent\"><img src=\"https://colab.research.google.com/assets/colab-badge.svg\" alt=\"Open In Colab\"/></a>"
      ]
    },
    {
      "cell_type": "markdown",
      "metadata": {
        "id": "2-GoXCAynpJw"
      },
      "source": [
        "### 문제 : [기능 개발](https://programmers.co.kr/learn/courses/30/lessons/42586)\n",
        "각 기능은 진도가 100%일 때 서비스에 반영할 수 있습니다.\n",
        "\n",
        "또, 각 기능의 개발속도는 모두 다르기 때문에 뒤에 있는 기능이 앞에 있는 기능보다 먼저 개발될 수 있고, 이때 뒤에 있는 기능은 앞에 있는 기능이 배포될 때 함께 배포됩니다.\n",
        "\n",
        "먼저 배포되어야 하는 순서대로 작업의 진도가 적힌 정수 배열 progresses와 각 작업의 개발 속도가 적힌 정수 배열 speeds가 주어질 때 각 배포마다 몇 개의 기능이 배포되는지를 return 하도록 solution 함수를 완성하세요."
      ]
    },
    {
      "cell_type": "markdown",
      "metadata": {
        "id": "JaKbhKyLr7uI"
      },
      "source": [
        "### 1. 리스트(==스택)을 이용한 방법"
      ]
    },
    {
      "cell_type": "code",
      "metadata": {
        "colab": {
          "base_uri": "https://localhost:8080/"
        },
        "id": "dWAcb9E3nxZv",
        "outputId": "8a914adb-5c14-4b6e-dc3a-e280773448cb"
      },
      "source": [
        " ### 입력값\n",
        "progresses = [\n",
        "            [93, 30, 55],\n",
        "            [95, 90, 99, 99, 80, 99]\n",
        "           ]\n",
        "speeds = [\n",
        "          [1, 30, 5], \n",
        "          [1, 1, 1, 1, 1, 1]\n",
        "         ]    \n",
        "\n",
        "### 문제\n",
        "def solution(progresses, speeds):\n",
        "\n",
        "    answer = []\n",
        "    day = 0\n",
        "    cnt = 0\n",
        "    \n",
        "    while progresses: # progresses가 존재할때까지\n",
        "        \n",
        "        if progresses[0] + (speeds[0] * day) >= 100:\n",
        "            progresses.pop(0)\n",
        "            speeds.pop(0)\n",
        "            cnt += 1\n",
        "        else:\n",
        "            if cnt != 0:\n",
        "                answer.append(cnt)\n",
        "                cnt = 0\n",
        "            \n",
        "            day += 1\n",
        "\n",
        "    answer.append(cnt)\n",
        "\n",
        "    return answer\n",
        " \n",
        "    \n",
        "### 출력\n",
        "for i in range(len(progresses)):\n",
        "   print(\"================================\")\n",
        "   print(f'Start : {i+1}')\n",
        "   answer = solution(progresses[i], speeds[i])\n",
        "   print(f'answer : {answer}')\n",
        "   print(\"================================\")"
      ],
      "execution_count": 6,
      "outputs": [
        {
          "output_type": "stream",
          "text": [
            "================================\n",
            "Start : 1\n",
            "answer : [2, 1]\n",
            "================================\n",
            "================================\n",
            "Start : 2\n",
            "answer : [1, 3, 2]\n",
            "================================\n"
          ],
          "name": "stdout"
        }
      ]
    },
    {
      "cell_type": "markdown",
      "metadata": {
        "id": "1pkhFBDosBNE"
      },
      "source": [
        "### 2. python deque 큐를 이용한 방법\n",
        "* 위의 (list == stack) 방법과 다른점은 queue는 popleft()를 통해서 제거한다."
      ]
    },
    {
      "cell_type": "code",
      "metadata": {
        "id": "lFmZUODQrNmO"
      },
      "source": [
        "def solution(progresses, speeds):\n",
        "    \n",
        "    from collections import deque\n",
        "    progresses = deque(progresses)\n",
        "    speeds = deque(speeds)\n",
        "    answer = []\n",
        "    cnt = 0\n",
        "    days = 0\n",
        "    \n",
        "    while progresses: # progresses 배열이 존재할때까지\n",
        "        \n",
        "        if progresses[0] + speeds[0] * days >= 100:\n",
        "            progresses.popleft()\n",
        "            speeds.popleft()\n",
        "            cnt += 1\n",
        "        else:\n",
        "            if cnt > 0:\n",
        "                answer.append(cnt)\n",
        "                cnt = 0\n",
        "                \n",
        "            days += 1\n",
        "        \n",
        "    answer.append(cnt)\n",
        "    \n",
        "    return answer"
      ],
      "execution_count": null,
      "outputs": []
    }
  ]
}