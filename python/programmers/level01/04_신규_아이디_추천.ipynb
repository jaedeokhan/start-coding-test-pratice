{
  "nbformat": 4,
  "nbformat_minor": 0,
  "metadata": {
    "colab": {
      "name": "04_신규 아이디 추천.ipynb",
      "provenance": [],
      "authorship_tag": "ABX9TyP+IYc3HPnjg3ycP8rFSKmz",
      "include_colab_link": true
    },
    "kernelspec": {
      "name": "python3",
      "display_name": "Python 3"
    },
    "language_info": {
      "name": "python"
    }
  },
  "cells": [
    {
      "cell_type": "markdown",
      "metadata": {
        "id": "view-in-github",
        "colab_type": "text"
      },
      "source": [
        "<a href=\"https://colab.research.google.com/github/jaedeokhan/start-coding-test-pratice/blob/main/programmers/level01/04_%EC%8B%A0%EA%B7%9C_%EC%95%84%EC%9D%B4%EB%94%94_%EC%B6%94%EC%B2%9C.ipynb\" target=\"_parent\"><img src=\"https://colab.research.google.com/assets/colab-badge.svg\" alt=\"Open In Colab\"/></a>"
      ]
    },
    {
      "cell_type": "code",
      "metadata": {
        "id": "CBIxMnzsEGf2"
      },
      "source": [
        "# 신규 유저가 입력한 아이디를 나타내는 new_id가 매개변수로 주어질 때, \n",
        "# \"네오\"가 설계한 7단계의 처리 과정을 거친 후의 추천 아이디를 return 하도록 solution 함수를 완성해 주세요.\n",
        "# 1단계 new_id의 모든 대문자를 대응되는 소문자로 치환합니다.\n",
        "# 2단계 new_id에서 알파벳 소문자, 숫자, 빼기(-), 밑줄(_), 마침표(.)를 제외한 모든 문자를 제거합니다.\n",
        "# 3단계 new_id에서 마침표(.)가 2번 이상 연속된 부분을 하나의 마침표(.)로 치환합니다.\n",
        "# 4단계 new_id에서 마침표(.)가 처음이나 끝에 위치한다면 제거합니다.\n",
        "# 5단계 new_id가 빈 문자열이라면, new_id에 \"a\"를 대입합니다.\n",
        "# 6단계 new_id의 길이가 16자 이상이면, new_id의 첫 15개의 문자를 제외한 나머지 문자들을 모두 제거합니다. 만약 제거 후 마침표(.)가 new_id의 끝에 위치한다면 끝에 위치한 마침표(.) 문자를 제거합니다.\n",
        "# 7단계 new_id의 길이가 2자 이하라면, new_id의 마지막 문자를 new_id의 길이가 3이 될 때까지 반복해서 끝에 붙입니다."
      ],
      "execution_count": 1,
      "outputs": []
    },
    {
      "cell_type": "code",
      "metadata": {
        "colab": {
          "base_uri": "https://localhost:8080/"
        },
        "id": "CQWuK-B4EX2G",
        "outputId": "b16a6a71-a131-4df4-994a-fb4bc74f70cc"
      },
      "source": [
        "import re\n",
        "### 입력값\n",
        "new_id = \"...!@BaT#*..y.abcdefghijklm\" , \"z-+.^.\" , \"=.=\" ,\"123_.def\" ,\"abcdefghijklmn.p\"\n",
        "###\n",
        " \n",
        " \n",
        "### 문제\n",
        "def solution(new_id):\n",
        "    answer = ''\n",
        "\n",
        "    # 1. 대문자 => 소문자\n",
        "    new_id  = new_id.lower()\n",
        "    print(f'1. lower() : {new_id}')\n",
        "\n",
        "    # 2. 소문자, 숫자, -, _, .를 제외한 모든 문자 제거\n",
        "    answer = re.sub('[^a-z0-9-_.]', '', new_id)\n",
        "    print(f\"2. re.sub('[^a-z0-9-_.]', ''  {answer}\")\n",
        "        \n",
        "    # 3. 마침표(.)가 2번 이상 연속된 부분을 하나의 마침표(.)로 치환합니다.\n",
        "    while answer.find('..') != -1:\n",
        "        answer = answer.replace('..', '.')\n",
        "        print(f'3. replace() : {answer}')\n",
        "\n",
        "    # 4. 마침표(.)가 처음이나 끝에 위치한다면 제거합니다.\n",
        "    answer = re.sub('^\\.', '', answer)\n",
        "    print(f'4-1. re.sub(^.) : {answer}')\n",
        "    answer = re.sub('\\.$', '', answer)\n",
        "    print(f'4-2. re.sub(.$) : {answer}')\n",
        "\n",
        "    # 5. 빈 문자열이라면, new_id에 \"a\"를 대입합니다.\n",
        "    if answer == '':\n",
        "        answer = \"a\"\n",
        "    print(f\"5. answer == '' : {answer}\")\n",
        "\n",
        "    # 6. new_id의 길이가 16자 이상이면 new_id의 첫 15개의 문자를 제외한 나머지 문자들을 모두 제거합니다. \n",
        "    # 만약 제거 후 마침표(.)가 new_id의 끝에 위치한다면 끝에 위치한 마침표(.) 문자를 제거합니다.\n",
        "    if len(answer) >= 16:\n",
        "        answer = answer[:15]\n",
        "        print(f'6-1. answer = answer[:15] : {answer}')\n",
        "        if answer[-1] == '.':\n",
        "            answer = answer[:len(answer)-1]\n",
        "            print(f'6-2. answer = answer[:len(answer)-1] : {answer}')\n",
        "\n",
        "    # 7. new_id의 길이가 2자 이하라면, \n",
        "    # new_id의 마지막 문자를 new_id의 길이가 3이 될 때까지 반복해서 끝에 붙입니다\n",
        "    while len(answer) < 3:\n",
        "        answer += answer[-1]\n",
        "        print(f'7. len(answer) < 3 : {answer}')\n",
        "\n",
        "    return answer\n",
        " \n",
        "### 출력\n",
        "for i in range(len(new_id)):\n",
        "   # Start\n",
        "   print(f'Start : {new_id[i]}')\n",
        "   answer = solution(new_id[i])\n",
        "   print(answer)\n",
        "   print()"
      ],
      "execution_count": 33,
      "outputs": [
        {
          "output_type": "stream",
          "text": [
            "Start : ...!@BaT#*..y.abcdefghijklm\n",
            "1. lower() : ...!@bat#*..y.abcdefghijklm\n",
            "2. re.sub('[^a-z0-9-_.]', ''  ...bat..y.abcdefghijklm\n",
            "3. replace() : ..bat.y.abcdefghijklm\n",
            "3. replace() : .bat.y.abcdefghijklm\n",
            "4-1. re.sub(^.) : bat.y.abcdefghijklm\n",
            "4-2. re.sub(.$) : bat.y.abcdefghijklm\n",
            "5. answer == '' : bat.y.abcdefghijklm\n",
            "6-1. answer = answer[:15] : bat.y.abcdefghi\n",
            "bat.y.abcdefghi\n",
            "\n",
            "Start : z-+.^.\n",
            "1. lower() : z-+.^.\n",
            "2. re.sub('[^a-z0-9-_.]', ''  z-..\n",
            "3. replace() : z-.\n",
            "4-1. re.sub(^.) : z-.\n",
            "4-2. re.sub(.$) : z-\n",
            "5. answer == '' : z-\n",
            "7. len(answer) < 3 : z--\n",
            "z--\n",
            "\n",
            "Start : =.=\n",
            "1. lower() : =.=\n",
            "2. re.sub('[^a-z0-9-_.]', ''  .\n",
            "4-1. re.sub(^.) : \n",
            "4-2. re.sub(.$) : \n",
            "5. answer == '' : a\n",
            "7. len(answer) < 3 : aa\n",
            "7. len(answer) < 3 : aaa\n",
            "aaa\n",
            "\n",
            "Start : 123_.def\n",
            "1. lower() : 123_.def\n",
            "2. re.sub('[^a-z0-9-_.]', ''  123_.def\n",
            "4-1. re.sub(^.) : 123_.def\n",
            "4-2. re.sub(.$) : 123_.def\n",
            "5. answer == '' : 123_.def\n",
            "123_.def\n",
            "\n",
            "Start : abcdefghijklmn.p\n",
            "1. lower() : abcdefghijklmn.p\n",
            "2. re.sub('[^a-z0-9-_.]', ''  abcdefghijklmn.p\n",
            "4-1. re.sub(^.) : abcdefghijklmn.p\n",
            "4-2. re.sub(.$) : abcdefghijklmn.p\n",
            "5. answer == '' : abcdefghijklmn.p\n",
            "6-1. answer = answer[:15] : abcdefghijklmn.\n",
            "6-2. answer = answer[:len(answer)-1] : abcdefghijklmn\n",
            "abcdefghijklmn\n",
            "\n"
          ],
          "name": "stdout"
        }
      ]
    }
  ]
}