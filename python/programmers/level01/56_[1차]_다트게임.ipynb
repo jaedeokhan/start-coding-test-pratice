{
  "nbformat": 4,
  "nbformat_minor": 0,
  "metadata": {
    "colab": {
      "name": "56_[1차] 다트게임.ipynb",
      "provenance": [],
      "collapsed_sections": [],
      "authorship_tag": "ABX9TyPCsn0tPcsfefXXJA1Ikxrf",
      "include_colab_link": true
    },
    "kernelspec": {
      "name": "python3",
      "display_name": "Python 3"
    },
    "language_info": {
      "name": "python"
    }
  },
  "cells": [
    {
      "cell_type": "markdown",
      "metadata": {
        "id": "view-in-github",
        "colab_type": "text"
      },
      "source": [
        "<a href=\"https://colab.research.google.com/github/jaedeokhan/start-coding-test-pratice/blob/main/programmers/level01/56_%5B1%EC%B0%A8%5D_%EB%8B%A4%ED%8A%B8%EA%B2%8C%EC%9E%84.ipynb\" target=\"_parent\"><img src=\"https://colab.research.google.com/assets/colab-badge.svg\" alt=\"Open In Colab\"/></a>"
      ]
    },
    {
      "cell_type": "markdown",
      "metadata": {
        "id": "lMSx1Z8BsQ55"
      },
      "source": [
        "### 문제 : 2018 카카오 블라인드 [1차] 다트게임\n",
        "0~10의 정수와 문자 S, D, T, *, #로 구성된 문자열(dartResult)이 입력될 시 총점수를 반환하는 함수를 작성하라"
      ]
    },
    {
      "cell_type": "code",
      "metadata": {
        "colab": {
          "base_uri": "https://localhost:8080/"
        },
        "id": "26ZABi0wsVNH",
        "outputId": "349727d4-fbf1-4800-812b-ce2ec96014fa"
      },
      "source": [
        "### 입력값\n",
        "dartResult = ['1S2D*3T', '1D2S#10S', '1D2S0T','1S*2T*3S', \n",
        "              '1D#2S*3S', '1T2D3D#','1D2S3T*']\n",
        "result = [37, 9, 3, 23, 5, -4, 59]\n",
        "###\n",
        "\n",
        "### 문제\n",
        "def solution(dartResult):\n",
        "    answer = []\n",
        "    ten_select = list(dartResult)\n",
        "    dart = []\n",
        "\n",
        "    # 1. ten_select에 1, 0을 10으로 체크해서 넣어주고, 나머지 수들도 dart에 넣어준다.\n",
        "    for i in range(len(ten_select)):\n",
        "        if ten_select[i] == '1' and ten_select[i+1] =='0':\n",
        "            dart.append('10')\n",
        "        # 위에서 1,0을 10으로 체크했지만, else구문에서 각각의 항목을 추가하기에 \n",
        "        # 10을 추가한 후에 0을 추가하기에 해당 elif구문으로 continue를 해줍니다. \n",
        "        elif ten_select[i] == '0' and ten_select[i-1] == '1':\n",
        "            continue\n",
        "        else:\n",
        "            dart.append(ten_select[i])\n",
        "\n",
        "    for i in range(len(dart)):\n",
        "        \n",
        "        if dart[i] == 'S':\n",
        "            answer.append(int(dart[i-1]))\n",
        "        elif dart[i] == 'D':\n",
        "            answer.append(int(dart[i-1])**2)\n",
        "        elif dart[i] == 'T':\n",
        "            answer.append(int(dart[i-1])**3)\n",
        "\n",
        "        if dart[i] == '*':\n",
        "            if len(answer) >= 2:\n",
        "                answer[-1] *= 2\n",
        "                answer[-2] *= 2\n",
        "            else:\n",
        "                answer[-1] = answer[-1] * 2\n",
        "\n",
        "        elif dart[i] == '#':\n",
        "            answer[-1] *= (-1)\n",
        "\n",
        "    return sum(answer)\n",
        "        \n",
        "\n",
        "        \n",
        "### 출력\n",
        "for i in range(len(dartResult)):\n",
        "   print(\"================================\")\n",
        "   print(f'Start : {i+1}')\n",
        "   answer = solution(dartResult[i])\n",
        "   print(f'answer : {answer} {answer == result[i]} result : {result[i]}')\n",
        "   print(\"================================\\n\")"
      ],
      "execution_count": 17,
      "outputs": [
        {
          "output_type": "stream",
          "text": [
            "================================\n",
            "Start : 1\n",
            "answer : 37 True result : 37\n",
            "================================\n",
            "\n",
            "================================\n",
            "Start : 2\n",
            "answer : 9 True result : 9\n",
            "================================\n",
            "\n",
            "================================\n",
            "Start : 3\n",
            "answer : 3 True result : 3\n",
            "================================\n",
            "\n",
            "================================\n",
            "Start : 4\n",
            "answer : 23 True result : 23\n",
            "================================\n",
            "\n",
            "================================\n",
            "Start : 5\n",
            "answer : 5 True result : 5\n",
            "================================\n",
            "\n",
            "================================\n",
            "Start : 6\n",
            "answer : -4 True result : -4\n",
            "================================\n",
            "\n",
            "================================\n",
            "Start : 7\n",
            "answer : 59 True result : 59\n",
            "================================\n",
            "\n"
          ],
          "name": "stdout"
        }
      ]
    },
    {
      "cell_type": "markdown",
      "metadata": {
        "id": "sOqSonkt21Go"
      },
      "source": [
        "#### 다른 사람의 풀이 1"
      ]
    },
    {
      "cell_type": "code",
      "metadata": {
        "colab": {
          "base_uri": "https://localhost:8080/"
        },
        "id": "U_r0gLYKzgYm",
        "outputId": "fdc0e396-36b6-41a5-8232-59d4e68c0d82"
      },
      "source": [
        "### 입력값\n",
        "dartResult = ['1S2D*3T', '1D2S#10S', '1D2S0T','1S*2T*3S', \n",
        "              '1D#2S*3S', '1T2D3D#','1D2S3T*']\n",
        "result = [37, 9, 3, 23, 5, -4, 59]\n",
        "###\n",
        "\n",
        "### 문제\n",
        "def solution(dartResult):\n",
        "    answer = []\n",
        "    dart_result = dartResult.replace(\"10\", 'k')\n",
        "    dart_result = ['10' if i  == 'k' else i for i in dart_result]\n",
        "\n",
        "    i = -1\n",
        "    pow_sdt = ['S', 'D', 'T']\n",
        "    for j in dart_result:\n",
        "        if j in pow_sdt:\n",
        "            answer[i] = answer[i] ** (pow_sdt.index(j) + 1)\n",
        "        elif j == '*':\n",
        "            answer[i] *= 2\n",
        "            if i != 0:\n",
        "                answer[i - 1] *= 2\n",
        "        elif j == '#':\n",
        "            answer[i] *= (-1)\n",
        "        else:\n",
        "            answer.append(int(j))\n",
        "            i += 1\n",
        "\n",
        "    return sum(answer)\n",
        "        \n",
        "\n",
        "        \n",
        "### 출력\n",
        "for i in range(len(dartResult)):\n",
        "   print(\"================================\")\n",
        "   print(f'Start : {i+1}')\n",
        "   answer = solution(dartResult[i])\n",
        "   print(f'answer : {answer} {answer == result[i]} result : {result[i]}')\n",
        "   print(\"================================\\n\")"
      ],
      "execution_count": 24,
      "outputs": [
        {
          "output_type": "stream",
          "text": [
            "================================\n",
            "Start : 1\n",
            "answer : 37 True result : 37\n",
            "================================\n",
            "\n",
            "================================\n",
            "Start : 2\n",
            "answer : 9 True result : 9\n",
            "================================\n",
            "\n",
            "================================\n",
            "Start : 3\n",
            "answer : 3 True result : 3\n",
            "================================\n",
            "\n",
            "================================\n",
            "Start : 4\n",
            "answer : 23 True result : 23\n",
            "================================\n",
            "\n",
            "================================\n",
            "Start : 5\n",
            "answer : 5 True result : 5\n",
            "================================\n",
            "\n",
            "================================\n",
            "Start : 6\n",
            "answer : -4 True result : -4\n",
            "================================\n",
            "\n",
            "================================\n",
            "Start : 7\n",
            "answer : 59 True result : 59\n",
            "================================\n",
            "\n"
          ],
          "name": "stdout"
        }
      ]
    },
    {
      "cell_type": "markdown",
      "metadata": {
        "id": "gNVAAa9J25As"
      },
      "source": [
        "#### 다른 사람의 풀이2 - 정규 표현식 사용\n",
        "* (\\d+) : 정수 (10이상도 찾아준다.)\n",
        "* ([SDT]) : 'SDT'인 문자\n",
        "* ([*#]?) : '*#' 문자를 찾는데 ?는 0,1 즉 없을수도 있다.\n",
        "    * *# 문자가 0,1개 이면 체크\n",
        "    "
      ]
    },
    {
      "cell_type": "code",
      "metadata": {
        "colab": {
          "base_uri": "https://localhost:8080/"
        },
        "id": "Gta0t2hJ1FP4",
        "outputId": "25fd8ef4-2ebb-4b08-ef13-d336c07e5346"
      },
      "source": [
        "### 입력값\n",
        "dartResult = ['1S2D*3T', '1D2S#10S', '1D2S0T','1S*2T*3S', \n",
        "              '1D#2S*3S', '1T2D3D#','1D2S3T*']\n",
        "result = [37, 9, 3, 23, 5, -4, 59]\n",
        "###\n",
        "\n",
        "### 문제\n",
        "def solution(dartResult):\n",
        "    import re\n",
        "\n",
        "    bonus = {'S' : 1, 'D' : 2, 'T' : 3}\n",
        "    options = {'': 1, '*' : 2, '#' : -1}\n",
        "    \n",
        "    p = re.compile('(\\d+)([SDT])([*#]?)')\n",
        "    dart = p.findall(dartResult)\n",
        "    print(f'정규표현식 findall => {dart}')\n",
        "\n",
        "    for i in range(len(dart)):\n",
        "        if dart[i][2] == '*' and i > 0:\n",
        "            # dart[i][2] == '', *, # 구분 \n",
        "            print(f'{dart[i-1]} 값 가중치 : {dart[i-1] * 2}')\n",
        "            dart[i-1] *= 2\n",
        "        print(f'{dart[i]} = {int(dart[i][0])} ** {bonus[dart[i][1]]} * {options[dart[i][2]]}')\n",
        "        # dictionary 접근 방법\n",
        "        # dict[key] ==> value 값이 나옵니다.\n",
        "        # bonus['S'] => 1\n",
        "        # options['*'] => 2 \n",
        "        dart[i] = int(dart[i][0]) ** bonus[dart[i][1]] * options[dart[i][2]]    \n",
        "\n",
        "\n",
        "    return sum(dart)\n",
        "        \n",
        "\n",
        "        \n",
        "### 출력\n",
        "for i in range(len(dartResult)):\n",
        "   print(\"================================\")\n",
        "   print(f'Start : {i+1}')\n",
        "   answer = solution(dartResult[i])\n",
        "   print(f'answer : {answer} {answer == result[i]} result : {result[i]}')\n",
        "   print(\"================================\\n\")"
      ],
      "execution_count": 33,
      "outputs": [
        {
          "output_type": "stream",
          "text": [
            "================================\n",
            "Start : 1\n",
            "정규표현식 findall => [('1', 'S', ''), ('2', 'D', '*'), ('3', 'T', '')]\n",
            "('1', 'S', '') = 1 ** 1 * 1\n",
            "1 값 가중치 : 2\n",
            "('2', 'D', '*') = 2 ** 2 * 2\n",
            "('3', 'T', '') = 3 ** 3 * 1\n",
            "answer : 37 True result : 37\n",
            "================================\n",
            "\n",
            "================================\n",
            "Start : 2\n",
            "정규표현식 findall => [('1', 'D', ''), ('2', 'S', '#'), ('10', 'S', '')]\n",
            "('1', 'D', '') = 1 ** 2 * 1\n",
            "('2', 'S', '#') = 2 ** 1 * -1\n",
            "('10', 'S', '') = 10 ** 1 * 1\n",
            "answer : 9 True result : 9\n",
            "================================\n",
            "\n",
            "================================\n",
            "Start : 3\n",
            "정규표현식 findall => [('1', 'D', ''), ('2', 'S', ''), ('0', 'T', '')]\n",
            "('1', 'D', '') = 1 ** 2 * 1\n",
            "('2', 'S', '') = 2 ** 1 * 1\n",
            "('0', 'T', '') = 0 ** 3 * 1\n",
            "answer : 3 True result : 3\n",
            "================================\n",
            "\n",
            "================================\n",
            "Start : 4\n",
            "정규표현식 findall => [('1', 'S', '*'), ('2', 'T', '*'), ('3', 'S', '')]\n",
            "('1', 'S', '*') = 1 ** 1 * 2\n",
            "2 값 가중치 : 4\n",
            "('2', 'T', '*') = 2 ** 3 * 2\n",
            "('3', 'S', '') = 3 ** 1 * 1\n",
            "answer : 23 True result : 23\n",
            "================================\n",
            "\n",
            "================================\n",
            "Start : 5\n",
            "정규표현식 findall => [('1', 'D', '#'), ('2', 'S', '*'), ('3', 'S', '')]\n",
            "('1', 'D', '#') = 1 ** 2 * -1\n",
            "-1 값 가중치 : -2\n",
            "('2', 'S', '*') = 2 ** 1 * 2\n",
            "('3', 'S', '') = 3 ** 1 * 1\n",
            "answer : 5 True result : 5\n",
            "================================\n",
            "\n",
            "================================\n",
            "Start : 6\n",
            "정규표현식 findall => [('1', 'T', ''), ('2', 'D', ''), ('3', 'D', '#')]\n",
            "('1', 'T', '') = 1 ** 3 * 1\n",
            "('2', 'D', '') = 2 ** 2 * 1\n",
            "('3', 'D', '#') = 3 ** 2 * -1\n",
            "answer : -4 True result : -4\n",
            "================================\n",
            "\n",
            "================================\n",
            "Start : 7\n",
            "정규표현식 findall => [('1', 'D', ''), ('2', 'S', ''), ('3', 'T', '*')]\n",
            "('1', 'D', '') = 1 ** 2 * 1\n",
            "('2', 'S', '') = 2 ** 1 * 1\n",
            "2 값 가중치 : 4\n",
            "('3', 'T', '*') = 3 ** 3 * 2\n",
            "answer : 59 True result : 59\n",
            "================================\n",
            "\n"
          ],
          "name": "stdout"
        }
      ]
    },
    {
      "cell_type": "code",
      "metadata": {
        "id": "R37gXMrO2QUr"
      },
      "source": [
        ""
      ],
      "execution_count": null,
      "outputs": []
    }
  ]
}