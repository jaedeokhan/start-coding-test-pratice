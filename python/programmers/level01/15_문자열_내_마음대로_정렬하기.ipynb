{
  "nbformat": 4,
  "nbformat_minor": 0,
  "metadata": {
    "colab": {
      "name": "15_문자열 내 마음대로 정렬하기.ipynb",
      "provenance": [],
      "collapsed_sections": [],
      "authorship_tag": "ABX9TyMHVxDzI5+GM8vvmdrXifaa",
      "include_colab_link": true
    },
    "kernelspec": {
      "name": "python3",
      "display_name": "Python 3"
    },
    "language_info": {
      "name": "python"
    }
  },
  "cells": [
    {
      "cell_type": "markdown",
      "metadata": {
        "id": "view-in-github",
        "colab_type": "text"
      },
      "source": [
        "<a href=\"https://colab.research.google.com/github/jaedeokhan/start-coding-test-pratice/blob/main/programmers/level01/15_%EB%AC%B8%EC%9E%90%EC%97%B4_%EB%82%B4_%EB%A7%88%EC%9D%8C%EB%8C%80%EB%A1%9C_%EC%A0%95%EB%A0%AC%ED%95%98%EA%B8%B0.ipynb\" target=\"_parent\"><img src=\"https://colab.research.google.com/assets/colab-badge.svg\" alt=\"Open In Colab\"/></a>"
      ]
    },
    {
      "cell_type": "markdown",
      "metadata": {
        "id": "Ye4kU_gNjpkl"
      },
      "source": [
        "### 문제 : [문자열 내 마음대로 정렬하기](https://programmers.co.kr/learn/courses/30/lessons/12915)\n",
        "* level01\n",
        "\n",
        "문자열로 구성된 리스트 strings와, 정수 n이 주어졌을 때, 각 문자열의 인덱스 n번째 글자를 기준으로 오름차순 정렬하려 합니다. 예를 들어 strings가 [\"sun\", \"bed\", \"car\"]이고 n이 1이면 각 단어의 인덱스 1의 문자 \"u\", \"e\", \"a\"로 strings를 정렬합니다"
      ]
    },
    {
      "cell_type": "code",
      "metadata": {
        "colab": {
          "base_uri": "https://localhost:8080/"
        },
        "id": "BfH47bUkjkpB",
        "outputId": "571427fd-d581-46b3-948a-40336bd34786"
      },
      "source": [
        "### 입력값\n",
        "strings = [[\"sun\", \"bed\", \"car\"], [\"abce\", \"abcd\", \"cdx\"]]\n",
        "n = [1, 2]\n",
        "###\n",
        "\n",
        "### 문제\n",
        "def solution(strings, n):\n",
        "\n",
        "    return sorted(sorted(strings), key=lambda x : x[n])\n",
        "\n",
        "    \n",
        "### 출력\n",
        "for i in range(len(strings)):\n",
        "   print(\"================================\")\n",
        "   print(f'Start : {i+1}')\n",
        "   answer = solution(strings[i], n[i])\n",
        "   print(answer)\n",
        "   print(\"================================\")"
      ],
      "execution_count": 4,
      "outputs": [
        {
          "output_type": "stream",
          "text": [
            "================================\n",
            "Start : 1\n",
            "['car', 'bed', 'sun']\n",
            "================================\n",
            "================================\n",
            "Start : 2\n",
            "['abcd', 'abce', 'cdx']\n",
            "================================\n"
          ],
          "name": "stdout"
        }
      ]
    }
  ]
}