{
  "nbformat": 4,
  "nbformat_minor": 0,
  "metadata": {
    "colab": {
      "name": "06_2016년",
      "provenance": [],
      "authorship_tag": "ABX9TyP3Ex6sYjGurLhrAM7C0mM4",
      "include_colab_link": true
    },
    "kernelspec": {
      "name": "python3",
      "display_name": "Python 3"
    },
    "language_info": {
      "name": "python"
    }
  },
  "cells": [
    {
      "cell_type": "markdown",
      "metadata": {
        "id": "view-in-github",
        "colab_type": "text"
      },
      "source": [
        "<a href=\"https://colab.research.google.com/github/jaedeokhan/start-coding-test-pratice/blob/main/programmers/level01/06_2016%EB%85%84.ipynb\" target=\"_parent\"><img src=\"https://colab.research.google.com/assets/colab-badge.svg\" alt=\"Open In Colab\"/></a>"
      ]
    },
    {
      "cell_type": "code",
      "metadata": {
        "colab": {
          "base_uri": "https://localhost:8080/"
        },
        "id": "U4WkcltV5Ro-",
        "outputId": "e6f27584-96a8-43db-8031-fe16d0358ebf"
      },
      "source": [
        "\n",
        "# 일~토 배열과 1~12배열을 만들어서 해결하는 방법\n",
        " ### 입력값\n",
        "a = [5, 5, 5, 5, 5]\n",
        "b = [24, 25, 26, 27, 28]\n",
        "###\n",
        " \n",
        " \n",
        "### 문제\n",
        "def solution(a, b):\n",
        "    answer = ''\n",
        " \n",
        "    day = 0\n",
        "    day_arr = [\"FRI\", \"SAT\", \"SUN\", \"MON\", \"TUE\", \"WED\", \"THU\"]    \n",
        "    month_arr = [31, 29, 31, 30, 31, 30, 31, 31, 30, 31, 30, 31]\n",
        " \n",
        "    day += sum(month_arr[:a-1]) + b - 1\n",
        "    \n",
        "    answer = day_arr[day % 7]\n",
        "   \n",
        "    return answer\n",
        " \n",
        "### 출력\n",
        "for i in range(len(a)):\n",
        "   print(f'Start : {a[i]}월 {b[i]}월')\n",
        "   answer = solution(a[i], b[i])\n",
        "   print(answer)\n",
        "   print()"
      ],
      "execution_count": 6,
      "outputs": [
        {
          "output_type": "stream",
          "text": [
            "Start : 5월 24월\n",
            "TUE\n",
            "\n",
            "Start : 5월 25월\n",
            "WED\n",
            "\n",
            "Start : 5월 26월\n",
            "THU\n",
            "\n",
            "Start : 5월 27월\n",
            "FRI\n",
            "\n",
            "Start : 5월 28월\n",
            "SAT\n",
            "\n"
          ],
          "name": "stdout"
        }
      ]
    },
    {
      "cell_type": "code",
      "metadata": {
        "colab": {
          "base_uri": "https://localhost:8080/"
        },
        "id": "jnX13T4H7GTP",
        "outputId": "24d233ad-16b3-4252-8b90-d33e1c196fa4"
      },
      "source": [
        " \n",
        "from datetime import date\n",
        " \n",
        "# date 라이브러리를 통해서 해결하는 방법\n",
        "### 입력값\n",
        "a = [5, 5, 5, 5, 5]\n",
        "b = [24, 25, 26, 27, 28]\n",
        "###\n",
        " \n",
        " \n",
        "### 문제\n",
        "def solution(a, b):\n",
        "        return date(2016, a,b).strftime('%a').upper() \n",
        " \n",
        "### 출력\n",
        "for i in range(len(a)):\n",
        "   print(f'Start : {a[i]}월 {b[i]}월')\n",
        "   answer = solution(a[i], b[i])\n",
        "   print(answer)\n",
        "   print()"
      ],
      "execution_count": 7,
      "outputs": [
        {
          "output_type": "stream",
          "text": [
            "Start : 5월 24월\n",
            "TUE\n",
            "\n",
            "Start : 5월 25월\n",
            "WED\n",
            "\n",
            "Start : 5월 26월\n",
            "THU\n",
            "\n",
            "Start : 5월 27월\n",
            "FRI\n",
            "\n",
            "Start : 5월 28월\n",
            "SAT\n",
            "\n"
          ],
          "name": "stdout"
        }
      ]
    }
  ]
}