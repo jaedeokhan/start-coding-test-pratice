{
  "nbformat": 4,
  "nbformat_minor": 0,
  "metadata": {
    "colab": {
      "name": "01_두 개 뽑아서 더하기.ipynb",
      "provenance": [],
      "collapsed_sections": [],
      "authorship_tag": "ABX9TyPpHejWcTGG3mpvik7KOvGr",
      "include_colab_link": true
    },
    "kernelspec": {
      "name": "python3",
      "display_name": "Python 3"
    },
    "language_info": {
      "name": "python"
    }
  },
  "cells": [
    {
      "cell_type": "markdown",
      "metadata": {
        "id": "view-in-github",
        "colab_type": "text"
      },
      "source": [
        "<a href=\"https://colab.research.google.com/github/jaedeokhan/start-coding-test-pratice/blob/main/programmers/level01/01_%EB%91%90_%EA%B0%9C_%EB%BD%91%EC%95%84%EC%84%9C_%EB%8D%94%ED%95%98%EA%B8%B0.ipynb\" target=\"_parent\"><img src=\"https://colab.research.google.com/assets/colab-badge.svg\" alt=\"Open In Colab\"/></a>"
      ]
    },
    {
      "cell_type": "markdown",
      "metadata": {
        "id": "s8JY0iYSYfxi"
      },
      "source": [
        "## 프로그래머스 Level01 두 개 뽑아서 더하기\n",
        "정수 배열 numbers가 주어집니다.<br> \n",
        "\n",
        "<b>numbers에서 서로 다른 인덱스에 있는 두 개의 수를 뽑아 더해서 만들 수 있는 모든 수를 배열에 오름차순으로 담아 return 하도록 solution 함수를 완성해주세요.</b>"
      ]
    },
    {
      "cell_type": "markdown",
      "metadata": {
        "id": "cMyV0PiZaAN-"
      },
      "source": [
        "### 1. for문을 통한 해결방법"
      ]
    },
    {
      "cell_type": "code",
      "metadata": {
        "colab": {
          "base_uri": "https://localhost:8080/"
        },
        "id": "q5NaW2pQY2Bp",
        "outputId": "9a6120b0-c2d8-457a-8f71-87331eadc3b7"
      },
      "source": [
        "### 입력값\n",
        "numbers = [[2,1,3,4,1], [5,0,2,7]]\n",
        "###\n",
        " \n",
        "### 문제\n",
        "def solution(numbers):\n",
        "    answer = []\n",
        "\n",
        "    for i in range(len(numbers) - 1):\n",
        "        for j in range(i+1, len(numbers)):\n",
        "            answer.append(numbers[i] + numbers[j])\n",
        "\n",
        "    return sorted(set(answer))\n",
        " \n",
        "### 출력\n",
        "for i in range(len(numbers)):\n",
        "   print(\"================================\")\n",
        "   print(f'Start : {i+1}')\n",
        "   answer = solution(numbers[i])\n",
        "   print(answer)\n",
        "   print(\"================================\\n\")"
      ],
      "execution_count": 9,
      "outputs": [
        {
          "output_type": "stream",
          "text": [
            "================================\n",
            "Start : 1\n",
            "[2, 3, 4, 5, 6, 7]\n",
            "================================\n",
            "\n",
            "================================\n",
            "Start : 2\n",
            "[2, 5, 7, 9, 12]\n",
            "================================\n",
            "\n"
          ],
          "name": "stdout"
        }
      ]
    },
    {
      "cell_type": "markdown",
      "metadata": {
        "id": "JmEMxKF8Z_pc"
      },
      "source": [
        "### 2. python combinations를 이용한 방법"
      ]
    },
    {
      "cell_type": "code",
      "metadata": {
        "colab": {
          "base_uri": "https://localhost:8080/"
        },
        "id": "mg5S3HX9ZbRG",
        "outputId": "b12bffd3-3384-4122-9db4-d489bc039dd6"
      },
      "source": [
        "### 입력값\n",
        "numbers = [[2,1,3,4,1], [5,0,2,7]]\n",
        "###\n",
        " \n",
        "### 문제\n",
        "from itertools import combinations\n",
        "\n",
        "def solution(numbers):\n",
        "    answer = []\n",
        "    l = list(combinations(numbers, 2))\n",
        "    print(f'10행 : combinations : {l}')\n",
        "\n",
        "    for i in l:\n",
        "        answer.append(i[0] + i[1])\n",
        "\n",
        "    return sorted(set(answer))\n",
        " \n",
        "### 출력\n",
        "for i in range(len(numbers)):\n",
        "   print(\"================================\")\n",
        "   print(f'Start : {i+1}')\n",
        "   answer = solution(numbers[i])\n",
        "   print(f'result : {answer}')\n",
        "   print(\"================================\\n\")"
      ],
      "execution_count": 17,
      "outputs": [
        {
          "output_type": "stream",
          "text": [
            "================================\n",
            "Start : 1\n",
            "10행 : combinations : [(2, 1), (2, 3), (2, 4), (2, 1), (1, 3), (1, 4), (1, 1), (3, 4), (3, 1), (4, 1)]\n",
            "result : [2, 3, 4, 5, 6, 7]\n",
            "================================\n",
            "\n",
            "================================\n",
            "Start : 2\n",
            "10행 : combinations : [(5, 0), (5, 2), (5, 7), (0, 2), (0, 7), (2, 7)]\n",
            "result : [2, 5, 7, 9, 12]\n",
            "================================\n",
            "\n"
          ],
          "name": "stdout"
        }
      ]
    }
  ]
}